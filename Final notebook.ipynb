{
 "cells": [
  {
   "cell_type": "code",
   "execution_count": 1,
   "metadata": {
    "pycharm": {
     "name": "#%%\n"
    }
   },
   "outputs": [
    {
     "name": "stderr",
     "output_type": "stream",
     "text": [
      "[nltk_data] Downloading package stopwords to\n",
      "[nltk_data]     C:\\Users\\admin\\AppData\\Roaming\\nltk_data...\n",
      "[nltk_data]   Package stopwords is already up-to-date!\n"
     ]
    }
   ],
   "source": [
    "import pandas as pd\n",
    "from utils import RBKPreprocessor, RBKRegressor, local_metric, write_predictions, get_mean_predictions\n",
    "from sklearn.model_selection import train_test_split, KFold\n",
    "from catboost import CatBoostRegressor, Pool\n",
    "\n"
   ]
  },
  {
   "cell_type": "code",
   "execution_count": 2,
   "metadata": {
    "pycharm": {
     "name": "#%%\n"
    }
   },
   "outputs": [],
   "source": [
    "RANDOM_STATE = 44"
   ]
  },
  {
   "cell_type": "code",
   "execution_count": 3,
   "metadata": {
    "pycharm": {
     "name": "#%%\n"
    }
   },
   "outputs": [],
   "source": [
    "train_df = pd.read_csv(\"data/train_dataset_train.csv\", index_col=0)\n",
    "test_df = pd.read_csv(\"data/test_dataset_test.csv\", index_col=0)\n",
    "\n",
    "train_df[\"is_train\"] = 1\n",
    "test_df[\"is_train\"] = 0\n",
    "\n",
    "df = pd.concat([train_df, test_df])"
   ]
  },
  {
   "cell_type": "markdown",
   "metadata": {
    "pycharm": {
     "name": "#%% md\n"
    }
   },
   "source": [
    "## Натренируем препроцессор, который подготовит исходные данные к виду удобному для модели (sparse matix)"
   ]
  },
  {
   "cell_type": "code",
   "execution_count": 4,
   "metadata": {
    "pycharm": {
     "name": "#%%\n"
    }
   },
   "outputs": [
    {
     "name": "stdout",
     "output_type": "stream",
     "text": [
      "Wall time: 4.07 s\n"
     ]
    },
    {
     "data": {
      "text/plain": [
       "RBKPreprocessor()"
      ]
     },
     "execution_count": 4,
     "metadata": {},
     "output_type": "execute_result"
    }
   ],
   "source": [
    "%%time\n",
    "preprocessor = RBKPreprocessor()\n",
    "preprocessor.fit(df)\n"
   ]
  },
  {
   "cell_type": "markdown",
   "source": [
    "## Используем свой класс RBKRegressor\n",
    "\n",
    "Который внутри содержит три модели Catboost (по одной на каждую переменную)\n",
    "Натренируем 4 модели на фолдах, а потом сделаем усреднение предсказаний"
   ],
   "metadata": {
    "collapsed": false,
    "pycharm": {
     "name": "#%% md\n"
    }
   }
  },
  {
   "cell_type": "code",
   "execution_count": 5,
   "metadata": {
    "pycharm": {
     "name": "#%%\n"
    }
   },
   "outputs": [],
   "source": [
    "splitter = KFold(n_splits=4, random_state=RANDOM_STATE, shuffle=True)"
   ]
  },
  {
   "cell_type": "code",
   "execution_count": null,
   "metadata": {
    "pycharm": {
     "name": "#%%\n",
     "is_executing": true
    }
   },
   "outputs": [],
   "source": [
    "my_models = []\n",
    "for train_index, test_index in splitter.split(train_df):\n",
    "    X_train = preprocessor.transform(train_df.iloc[train_index])\n",
    "    y_train = train_df.iloc[train_index][[\"views\", \"depth\", \"full_reads_percent\"]]\n",
    "\n",
    "    X_test = preprocessor.transform(train_df.iloc[test_index])\n",
    "    y_test = train_df.iloc[test_index][[\"views\", \"depth\", \"full_reads_percent\"]]\n",
    "\n",
    "    model = RBKRegressor(random_seed=RANDOM_STATE, n_iterations=1000)\n",
    "    model.fit(X_train, y_train, X_test, y_test)\n",
    "    \n",
    "    my_models.append(model)\n"
   ]
  },
  {
   "cell_type": "markdown",
   "metadata": {
    "pycharm": {
     "name": "#%% md\n"
    }
   },
   "source": [
    "## Оценка на обучении каждой модели, и оценка при усреднении предсказаний"
   ]
  },
  {
   "cell_type": "code",
   "execution_count": 7,
   "metadata": {
    "pycharm": {
     "name": "#%%\n"
    }
   },
   "outputs": [
    {
     "name": "stderr",
     "output_type": "stream",
     "text": [
      "C:\\Soft\\Anaconda\\lib\\site-packages\\pandas\\core\\arraylike.py:364: RuntimeWarning: divide by zero encountered in log\n",
      "  result = getattr(ufunc, method)(*inputs, **kwargs)\n"
     ]
    }
   ],
   "source": [
    "X_train = preprocessor.transform(train_df)\n",
    "y_train = train_df[[\"views\", \"depth\", \"full_reads_percent\"]]\n"
   ]
  },
  {
   "cell_type": "code",
   "execution_count": 8,
   "metadata": {
    "pycharm": {
     "name": "#%%\n"
    }
   },
   "outputs": [
    {
     "name": "stdout",
     "output_type": "stream",
     "text": [
      "(0.7882091764147028, 0.2983433326546729, 0.26849983486078255, 0.22136600889924732)\n",
      "(0.8231959125907111, 0.34750425197975565, 0.2692170182329642, 0.20647464237799132)\n",
      "(0.8190823253651975, 0.3577023734484537, 0.2695018482044352, 0.19187810371230876)\n",
      "(0.7544934100771286, 0.31070438763547625, 0.26974827082935554, 0.17404075161229682)\n"
     ]
    }
   ],
   "source": [
    "for model in my_models:\n",
    "    print(local_metric(y_train, model.predict(X_train)))"
   ]
  },
  {
   "cell_type": "code",
   "execution_count": 9,
   "metadata": {
    "pycharm": {
     "name": "#%%\n"
    }
   },
   "outputs": [
    {
     "name": "stdout",
     "output_type": "stream",
     "text": [
      "(0.847544675567384, 0.36092379726769536, 0.2746464513672954, 0.21197442693239318)\n"
     ]
    }
   ],
   "source": [
    "print(local_metric(y_train, get_mean_predictions(my_models, X_train)))"
   ]
  },
  {
   "cell_type": "markdown",
   "metadata": {
    "pycharm": {
     "name": "#%% md\n"
    }
   },
   "source": [
    "## Сделаем предсказания на тестовых данных и запишем предикт"
   ]
  },
  {
   "cell_type": "code",
   "execution_count": 10,
   "metadata": {
    "pycharm": {
     "name": "#%%\n"
    }
   },
   "outputs": [
    {
     "name": "stderr",
     "output_type": "stream",
     "text": [
      "C:\\Soft\\Anaconda\\lib\\site-packages\\pandas\\core\\arraylike.py:364: RuntimeWarning: divide by zero encountered in log\n",
      "  result = getattr(ufunc, method)(*inputs, **kwargs)\n"
     ]
    }
   ],
   "source": [
    "X_test = preprocessor.transform(test_df)"
   ]
  },
  {
   "cell_type": "code",
   "execution_count": 11,
   "metadata": {
    "pycharm": {
     "name": "#%%\n"
    }
   },
   "outputs": [],
   "source": [
    "preds = get_mean_predictions(my_models, X_test)"
   ]
  },
  {
   "cell_type": "code",
   "execution_count": 12,
   "metadata": {
    "pycharm": {
     "name": "#%%\n"
    }
   },
   "outputs": [],
   "source": [
    "write_predictions(preds)"
   ]
  },
  {
   "cell_type": "markdown",
   "metadata": {
    "pycharm": {
     "name": "#%% md\n"
    }
   },
   "source": [
    "## Результат на лидерборде 0.685924"
   ]
  },
  {
   "cell_type": "code",
   "execution_count": null,
   "metadata": {
    "pycharm": {
     "name": "#%%\n"
    }
   },
   "outputs": [],
   "source": []
  }
 ],
 "metadata": {
  "kernelspec": {
   "display_name": "Python 3 (ipykernel)",
   "language": "python",
   "name": "python3"
  },
  "language_info": {
   "codemirror_mode": {
    "name": "ipython",
    "version": 3
   },
   "file_extension": ".py",
   "mimetype": "text/x-python",
   "name": "python",
   "nbconvert_exporter": "python",
   "pygments_lexer": "ipython3",
   "version": "3.9.7"
  }
 },
 "nbformat": 4,
 "nbformat_minor": 1
}
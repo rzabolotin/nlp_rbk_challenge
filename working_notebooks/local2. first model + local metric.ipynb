{
 "cells": [
  {
   "cell_type": "code",
   "execution_count": 1,
   "id": "46a0b756",
   "metadata": {
    "pycharm": {
     "name": "#%%\n"
    }
   },
   "outputs": [
    {
     "name": "stderr",
     "output_type": "stream",
     "text": [
      "[nltk_data] Downloading package stopwords to\n",
      "[nltk_data]     C:\\Users\\admin\\AppData\\Roaming\\nltk_data...\n",
      "[nltk_data]   Package stopwords is already up-to-date!\n"
     ]
    }
   ],
   "source": [
    "import pandas as pd\n",
    "import numpy as np\n",
    "import seaborn as sns\n",
    "import pickle\n",
    "\n",
    "from sklearn.feature_extraction.text import TfidfVectorizer\n",
    "from sklearn.preprocessing import OneHotEncoder\n",
    "from sklearn.base import BaseEstimator\n",
    "import nltk\n",
    "from nltk.corpus import stopwords\n",
    "from nltk.stem.snowball import SnowballStemmer\n",
    "from scipy.sparse import hstack\n",
    "\n",
    "from sklearn.ensemble import RandomForestRegressor\n",
    "from sklearn.metrics import r2_score, mean_squared_error\n",
    "from sklearn.model_selection import train_test_split, RandomizedSearchCV\n",
    "from sklearn.multioutput import MultiOutputRegressor\n",
    "\n",
    "\n",
    "pd.options.display.float_format = '{:,.2f}'.format\n",
    "sns.set_theme()\n",
    "nltk.download(\"stopwords\");\n",
    "\n",
    "RANDOM_STATE = 44"
   ]
  },
  {
   "cell_type": "code",
   "execution_count": 2,
   "id": "e8e6ef26",
   "metadata": {
    "pycharm": {
     "name": "#%%\n"
    }
   },
   "outputs": [],
   "source": [
    "train_df = pd.read_csv(\"../data/train_dataset_train.csv\", index_col=0)\n",
    "test_df = pd.read_csv(\"../data/test_dataset_test.csv\", index_col=0)\n",
    "\n",
    "train_df[\"is_train\"] = 1\n",
    "test_df[\"is_train\"] = 0\n",
    "\n",
    "df = pd.concat([train_df, test_df])"
   ]
  },
  {
   "cell_type": "code",
   "execution_count": 3,
   "id": "9a617368",
   "metadata": {
    "pycharm": {
     "name": "#%%\n"
    }
   },
   "outputs": [],
   "source": [
    "class RBKpreprocessor(BaseEstimator):\n",
    "    def __init__(self):\n",
    "        self._vectorizer_tags = TfidfVectorizer()\n",
    "        self._vectorizer_authors = TfidfVectorizer()\n",
    "        self._category_ohe = OneHotEncoder()\n",
    "        self._category_from_title_ohe = OneHotEncoder()\n",
    "        self._stop_words = stopwords.words(\"russian\")\n",
    "        self._stemmer = SnowballStemmer(\"russian\")\n",
    "        self._vectorizer_title = TfidfVectorizer()\n",
    "        \n",
    "        \n",
    "    def _clean_list(self, title):\n",
    "        return(title.\n",
    "           replace(\"[\", \"\").\n",
    "           replace(\"]\", \"\").\n",
    "           replace(\".\", \"\").\n",
    "           replace(\"'\", \"\").\n",
    "           replace(\",\", \" \")\n",
    "          )\n",
    "    \n",
    "    def _clean_title(self, title):\n",
    "        if title.find(\"\\n\")>0:\n",
    "            title = title[0:title.find(\"\\n\\n\")].lower()\n",
    "        title = \" \".join([self._stemmer.stem(w) for w in title.split() if w not in self._stop_words])\n",
    "        return title\n",
    "\n",
    "    def _find_category_in_title(self, title):\n",
    "        if title.find(\"\\n\")>0:\n",
    "            title = title[title.find(\"\\n\\n\"):].lower().strip()\n",
    "        else:\n",
    "            title = \"\"\n",
    "        if \",\" in title:\n",
    "            title = title[0:title.index(\",\")]\n",
    "        else:\n",
    "            title = \"\"\n",
    "\n",
    "        return title\n",
    "    \n",
    "    def fit(self, df):\n",
    "        self._category_ohe.fit(df.category.values.reshape(-1,1))\n",
    "        \n",
    "        authors_clean = df.authors.apply(self._clean_list)\n",
    "        tags_clean = df.tags.apply(self._clean_list)\n",
    "        self._vectorizer_tags.fit(tags_clean)\n",
    "        self._vectorizer_authors.fit(authors_clean);\n",
    "        \n",
    "        title_clean = df.title.apply(self._clean_title)\n",
    "        category_from_title =  df.title.apply(self._find_category_in_title)\n",
    "        self._category_from_title_ohe.fit(category_from_title.values.reshape(-1,1))\n",
    "        self._vectorizer_title.fit(title_clean)\n",
    "        \n",
    "        return(self)\n",
    "        \n",
    "        \n",
    "    def transform(self, df):\n",
    "        ctr_zero = (df.ctr == 0)\n",
    "        ctr_log = np.log(df.ctr)\n",
    "        mean_ctr_log = np.mean(ctr_log.values, where=(ctr_log != -np.inf))\n",
    "        ctr_log = np.where(df[\"ctr\"] == 0, mean_ctr_log, ctr_log)\n",
    "        \n",
    "        category_sparse = self._category_ohe.transform(df.category.values.reshape(-1,1))\n",
    "        \n",
    "        authors_clean = df.authors.apply(self._clean_list)\n",
    "        tags_clean = df.tags.apply(self._clean_list)\n",
    "        \n",
    "        authors_count = authors_clean.apply(lambda x: len(x.split()))\n",
    "        tags_count = tags_clean.apply(lambda x: len(x.split()))\n",
    "        \n",
    "        tags_sparse = self._vectorizer_tags.transform(tags_clean)\n",
    "        authors_sparse = self._vectorizer_authors.transform(authors_clean)\n",
    "        \n",
    "        publish_date = pd.to_datetime(df.publish_date)\n",
    "        publish_year = publish_date.dt.year * 100 + publish_date.dt.month\n",
    "        publish_day = publish_date.dt.day\n",
    "        publish_weekday = publish_date.dt.weekday\n",
    "        publish_hour = publish_date.dt.hour\n",
    "        \n",
    "        title_clean = df.title.apply(self._clean_title)\n",
    "        title_sparse  = self._vectorizer_title.transform(title_clean)\n",
    "        \n",
    "        category_from_title =  df.title.apply(self._find_category_in_title)\n",
    "        category_from_title_sparse = self._category_from_title_ohe.transform(category_from_title.values.reshape(-1,1))\n",
    "        \n",
    "        return hstack([\n",
    "            ctr_zero.values[:,None],\n",
    "            ctr_log[:,None],\n",
    "            category_sparse,\n",
    "            authors_count.values[:,None],\n",
    "            tags_count.values[:,None],\n",
    "            tags_sparse,\n",
    "            authors_sparse,\n",
    "            publish_year.values[:,None],\n",
    "            publish_day.values[:,None],\n",
    "            publish_weekday.values[:,None],\n",
    "            publish_hour.values[:,None],\n",
    "            title_sparse,\n",
    "            category_from_title_sparse\n",
    "        ])\n",
    "        \n",
    "        "
   ]
  },
  {
   "cell_type": "code",
   "execution_count": 4,
   "id": "c4cac8d5",
   "metadata": {
    "pycharm": {
     "name": "#%%\n"
    }
   },
   "outputs": [
    {
     "name": "stdout",
     "output_type": "stream",
     "text": [
      "CPU times: total: 2.5 s\n",
      "Wall time: 3.81 s\n"
     ]
    },
    {
     "data": {
      "text/plain": "RBKpreprocessor()",
      "text/html": "<style>#sk-container-id-1 {color: black;background-color: white;}#sk-container-id-1 pre{padding: 0;}#sk-container-id-1 div.sk-toggleable {background-color: white;}#sk-container-id-1 label.sk-toggleable__label {cursor: pointer;display: block;width: 100%;margin-bottom: 0;padding: 0.3em;box-sizing: border-box;text-align: center;}#sk-container-id-1 label.sk-toggleable__label-arrow:before {content: \"▸\";float: left;margin-right: 0.25em;color: #696969;}#sk-container-id-1 label.sk-toggleable__label-arrow:hover:before {color: black;}#sk-container-id-1 div.sk-estimator:hover label.sk-toggleable__label-arrow:before {color: black;}#sk-container-id-1 div.sk-toggleable__content {max-height: 0;max-width: 0;overflow: hidden;text-align: left;background-color: #f0f8ff;}#sk-container-id-1 div.sk-toggleable__content pre {margin: 0.2em;color: black;border-radius: 0.25em;background-color: #f0f8ff;}#sk-container-id-1 input.sk-toggleable__control:checked~div.sk-toggleable__content {max-height: 200px;max-width: 100%;overflow: auto;}#sk-container-id-1 input.sk-toggleable__control:checked~label.sk-toggleable__label-arrow:before {content: \"▾\";}#sk-container-id-1 div.sk-estimator input.sk-toggleable__control:checked~label.sk-toggleable__label {background-color: #d4ebff;}#sk-container-id-1 div.sk-label input.sk-toggleable__control:checked~label.sk-toggleable__label {background-color: #d4ebff;}#sk-container-id-1 input.sk-hidden--visually {border: 0;clip: rect(1px 1px 1px 1px);clip: rect(1px, 1px, 1px, 1px);height: 1px;margin: -1px;overflow: hidden;padding: 0;position: absolute;width: 1px;}#sk-container-id-1 div.sk-estimator {font-family: monospace;background-color: #f0f8ff;border: 1px dotted black;border-radius: 0.25em;box-sizing: border-box;margin-bottom: 0.5em;}#sk-container-id-1 div.sk-estimator:hover {background-color: #d4ebff;}#sk-container-id-1 div.sk-parallel-item::after {content: \"\";width: 100%;border-bottom: 1px solid gray;flex-grow: 1;}#sk-container-id-1 div.sk-label:hover label.sk-toggleable__label {background-color: #d4ebff;}#sk-container-id-1 div.sk-serial::before {content: \"\";position: absolute;border-left: 1px solid gray;box-sizing: border-box;top: 0;bottom: 0;left: 50%;z-index: 0;}#sk-container-id-1 div.sk-serial {display: flex;flex-direction: column;align-items: center;background-color: white;padding-right: 0.2em;padding-left: 0.2em;position: relative;}#sk-container-id-1 div.sk-item {position: relative;z-index: 1;}#sk-container-id-1 div.sk-parallel {display: flex;align-items: stretch;justify-content: center;background-color: white;position: relative;}#sk-container-id-1 div.sk-item::before, #sk-container-id-1 div.sk-parallel-item::before {content: \"\";position: absolute;border-left: 1px solid gray;box-sizing: border-box;top: 0;bottom: 0;left: 50%;z-index: -1;}#sk-container-id-1 div.sk-parallel-item {display: flex;flex-direction: column;z-index: 1;position: relative;background-color: white;}#sk-container-id-1 div.sk-parallel-item:first-child::after {align-self: flex-end;width: 50%;}#sk-container-id-1 div.sk-parallel-item:last-child::after {align-self: flex-start;width: 50%;}#sk-container-id-1 div.sk-parallel-item:only-child::after {width: 0;}#sk-container-id-1 div.sk-dashed-wrapped {border: 1px dashed gray;margin: 0 0.4em 0.5em 0.4em;box-sizing: border-box;padding-bottom: 0.4em;background-color: white;}#sk-container-id-1 div.sk-label label {font-family: monospace;font-weight: bold;display: inline-block;line-height: 1.2em;}#sk-container-id-1 div.sk-label-container {text-align: center;}#sk-container-id-1 div.sk-container {/* jupyter's `normalize.less` sets `[hidden] { display: none; }` but bootstrap.min.css set `[hidden] { display: none !important; }` so we also need the `!important` here to be able to override the default hidden behavior on the sphinx rendered scikit-learn.org. See: https://github.com/scikit-learn/scikit-learn/issues/21755 */display: inline-block !important;position: relative;}#sk-container-id-1 div.sk-text-repr-fallback {display: none;}</style><div id=\"sk-container-id-1\" class=\"sk-top-container\"><div class=\"sk-text-repr-fallback\"><pre>RBKpreprocessor()</pre><b>In a Jupyter environment, please rerun this cell to show the HTML representation or trust the notebook. <br />On GitHub, the HTML representation is unable to render, please try loading this page with nbviewer.org.</b></div><div class=\"sk-container\" hidden><div class=\"sk-item\"><div class=\"sk-estimator sk-toggleable\"><input class=\"sk-toggleable__control sk-hidden--visually\" id=\"sk-estimator-id-1\" type=\"checkbox\" checked><label for=\"sk-estimator-id-1\" class=\"sk-toggleable__label sk-toggleable__label-arrow\">RBKpreprocessor</label><div class=\"sk-toggleable__content\"><pre>RBKpreprocessor()</pre></div></div></div></div></div>"
     },
     "execution_count": 4,
     "metadata": {},
     "output_type": "execute_result"
    }
   ],
   "source": [
    "%%time\n",
    "preprocess = RBKpreprocessor()\n",
    "preprocess.fit(df)"
   ]
  },
  {
   "cell_type": "markdown",
   "id": "c7101d30",
   "metadata": {
    "pycharm": {
     "name": "#%% md\n"
    }
   },
   "source": [
    "# Cделаем wrapper для модели, чтобы обучался и предсказывал на  логарифмах"
   ]
  },
  {
   "cell_type": "code",
   "execution_count": 5,
   "id": "fbdfa8de",
   "metadata": {
    "pycharm": {
     "name": "#%%\n"
    }
   },
   "outputs": [],
   "source": [
    "class LogModel(BaseEstimator):\n",
    "    def __init__(self, model):\n",
    "        self._model = model\n",
    "    \n",
    "    def fit(self, X, y):\n",
    "        views_log = np.log(y[\"views\"])\n",
    "        depth_log = np.log(np.log(y[\"depth\"]))\n",
    "        full_reads_percent_log = y[\"full_reads_percent\"]\n",
    "        \n",
    "        y_log = np.matrix([\n",
    "            views_log,\n",
    "            depth_log,\n",
    "            full_reads_percent_log\n",
    "        ]).T\n",
    "        \n",
    "        self._model.fit(X, y_log)\n",
    "        \n",
    "    def predict(self, X):\n",
    "        preds = self._model.predict(X)\n",
    "        preds[:,0] = np.exp(preds[:,0])\n",
    "        preds[:,1] = np.exp(np.exp(preds[:,1]))\n",
    "        return(preds)\n",
    "        "
   ]
  },
  {
   "cell_type": "code",
   "execution_count": 6,
   "id": "dc8a44e9",
   "metadata": {
    "pycharm": {
     "name": "#%%\n"
    }
   },
   "outputs": [],
   "source": [
    "class TrimModel(BaseEstimator):\n",
    "    def __init__(self, model):\n",
    "        self._model = model\n",
    "    \n",
    "    def fit(self, X, y):\n",
    "        views = (np.where(y[\"views\"] < 500000, y[\"views\"], 500000))\n",
    "        depth = (np.where(y[\"depth\"] < 1.4, y[\"depth\"], 1.4))\n",
    "        full_reads_percent = np.where(y[\"full_reads_percent\"] < 63, y[\"full_reads_percent\"], 63)\n",
    "        \n",
    "        y_log = np.matrix([\n",
    "            views,\n",
    "            depth,\n",
    "            full_reads_percent\n",
    "        ]).T\n",
    "        \n",
    "        self._model.fit(X, y_log)\n",
    "        \n",
    "    def predict(self, X):\n",
    "        preds = self._model.predict(X)\n",
    "        return(preds)\n",
    "        "
   ]
  },
  {
   "cell_type": "code",
   "execution_count": 7,
   "id": "526786df",
   "metadata": {
    "pycharm": {
     "name": "#%%\n"
    }
   },
   "outputs": [],
   "source": [
    "class LogTrimModel(BaseEstimator):\n",
    "    def __init__(self, model):\n",
    "        self._model = model\n",
    "    \n",
    "    def fit(self, X, y):\n",
    "        views_log = np.log(np.where(y[\"views\"] < 500000, y[\"views\"], 500000))\n",
    "        depth_log = np.log(np.log(np.where(y[\"depth\"] < 1.4, y[\"depth\"], 1.4)))\n",
    "        full_reads_percent_log = np.where(y[\"full_reads_percent\"] < 63, y[\"full_reads_percent\"], 63)\n",
    "        \n",
    "        y_log = np.matrix([\n",
    "            views_log,\n",
    "            depth_log,\n",
    "            full_reads_percent_log\n",
    "        ]).T\n",
    "        \n",
    "        self._model.fit(X, y_log)\n",
    "        \n",
    "    def predict(self, X):\n",
    "        preds = self._model.predict(X)\n",
    "        preds[:,0] = np.exp(preds[:,0])\n",
    "        preds[:,1] = np.exp(np.exp(preds[:,1]))\n",
    "        return(preds)\n",
    "        "
   ]
  },
  {
   "cell_type": "markdown",
   "id": "f297ee7a",
   "metadata": {
    "pycharm": {
     "name": "#%% md\n"
    }
   },
   "source": [
    "## Сделаем подсчет метрики локально"
   ]
  },
  {
   "cell_type": "code",
   "execution_count": 22,
   "id": "220656b8",
   "metadata": {
    "pycharm": {
     "name": "#%%\n"
    }
   },
   "outputs": [],
   "source": [
    "def my_metric(y_real, preds, detail=True):\n",
    "    overall = (\n",
    "            0.4*r2_score(y_real.iloc[:,0], preds[:,0]) + \n",
    "            0.3*r2_score(y_real.iloc[:,1], preds[:,1]) + \n",
    "            0.3*r2_score(y_real.iloc[:,2], preds[:,2])\n",
    "        )\n",
    "    \n",
    "    if not detail:\n",
    "        return overall\n",
    "    else:\n",
    "        return (\n",
    "            overall,\n",
    "            0.4*r2_score(y_real.iloc[:,0], preds[:,0]), \n",
    "            0.3*r2_score(y_real.iloc[:,1], preds[:,1]), \n",
    "            0.3*r2_score(y_real.iloc[:,2], preds[:,2])\n",
    "        )"
   ]
  },
  {
   "cell_type": "markdown",
   "id": "497e7042",
   "metadata": {
    "pycharm": {
     "name": "#%% md\n"
    }
   },
   "source": [
    "## Запишем файл сабмита"
   ]
  },
  {
   "cell_type": "code",
   "execution_count": 23,
   "id": "4d0a48fe",
   "metadata": {
    "pycharm": {
     "name": "#%%\n"
    }
   },
   "outputs": [],
   "source": [
    "def write_down_predictions(preds, output_file = \"output.csv\"):\n",
    "    solution = pd.read_csv(\"data\\sample_solution.csv\")\n",
    "    solution.iloc[:,1:4] = preds\n",
    "    solution.to_csv(output_file, index=False)"
   ]
  },
  {
   "cell_type": "markdown",
   "id": "9a925018",
   "metadata": {
    "pycharm": {
     "name": "#%% md\n"
    }
   },
   "source": [
    "## Проерим есть ли смысле предсказывать логарифм, на случайном лесе\n"
   ]
  },
  {
   "cell_type": "code",
   "execution_count": 110,
   "id": "2f800e32",
   "metadata": {
    "pycharm": {
     "name": "#%%\n"
    }
   },
   "outputs": [],
   "source": [
    "\n",
    "model = RandomForestRegressor(n_estimators=10, random_state=RANDOM_STATE)\n",
    "model2 = LogModel(RandomForestRegressor(n_estimators=10, random_state=RANDOM_STATE))\n",
    "model3 = TrimModel(RandomForestRegressor(n_estimators=10, random_state=RANDOM_STATE))\n",
    "model4 = LogTrimModel(RandomForestRegressor(n_estimators=10, random_state=RANDOM_STATE))"
   ]
  },
  {
   "cell_type": "code",
   "execution_count": 111,
   "id": "f9e11d4c",
   "metadata": {
    "pycharm": {
     "name": "#%%\n"
    }
   },
   "outputs": [
    {
     "name": "stderr",
     "output_type": "stream",
     "text": [
      "C:\\Soft\\Anaconda\\lib\\site-packages\\pandas\\core\\arraylike.py:364: RuntimeWarning: divide by zero encountered in log\n",
      "  result = getattr(ufunc, method)(*inputs, **kwargs)\n"
     ]
    },
    {
     "name": "stdout",
     "output_type": "stream",
     "text": [
      "Wall time: 8.28 s\n"
     ]
    }
   ],
   "source": [
    "%%time\n",
    "X = preprocess.transform(train_df)\n",
    "y = train_df[[\"views\", \"depth\", \"full_reads_percent\"]]\n"
   ]
  },
  {
   "cell_type": "code",
   "execution_count": 112,
   "id": "3e76072c",
   "metadata": {
    "pycharm": {
     "name": "#%%\n"
    }
   },
   "outputs": [
    {
     "name": "stdout",
     "output_type": "stream",
     "text": [
      "Wall time: 34.3 s\n"
     ]
    },
    {
     "data": {
      "text/plain": [
       "RandomForestRegressor(n_estimators=10, random_state=44)"
      ]
     },
     "execution_count": 112,
     "metadata": {},
     "output_type": "execute_result"
    }
   ],
   "source": [
    "%%time\n",
    "model.fit(X,y)"
   ]
  },
  {
   "cell_type": "code",
   "execution_count": 113,
   "id": "6d44780b",
   "metadata": {
    "pycharm": {
     "name": "#%%\n"
    }
   },
   "outputs": [
    {
     "name": "stdout",
     "output_type": "stream",
     "text": [
      "Wall time: 42.7 s\n"
     ]
    }
   ],
   "source": [
    "%%time\n",
    "model2.fit(X,y)"
   ]
  },
  {
   "cell_type": "code",
   "execution_count": 114,
   "id": "6f36b666",
   "metadata": {
    "pycharm": {
     "name": "#%%\n"
    }
   },
   "outputs": [
    {
     "name": "stdout",
     "output_type": "stream",
     "text": [
      "Wall time: 36.7 s\n"
     ]
    }
   ],
   "source": [
    "%%time\n",
    "model3.fit(X,y)"
   ]
  },
  {
   "cell_type": "code",
   "execution_count": 117,
   "id": "dc89dee3",
   "metadata": {
    "pycharm": {
     "name": "#%%\n"
    }
   },
   "outputs": [
    {
     "name": "stdout",
     "output_type": "stream",
     "text": [
      "Wall time: 28.8 s\n"
     ]
    }
   ],
   "source": [
    "%%time\n",
    "model4.fit(X,y)"
   ]
  },
  {
   "cell_type": "code",
   "execution_count": 121,
   "id": "2edc158e",
   "metadata": {
    "pycharm": {
     "name": "#%%\n"
    }
   },
   "outputs": [],
   "source": [
    "preds1 = model.predict(X)\n",
    "preds2 = model2.predict(X)\n",
    "preds3 = model3.predict(X)\n",
    "preds4 = model4.predict(X)"
   ]
  },
  {
   "cell_type": "code",
   "execution_count": 122,
   "id": "1cd9eedc",
   "metadata": {
    "pycharm": {
     "name": "#%%\n"
    }
   },
   "outputs": [
    {
     "data": {
      "text/plain": [
       "(0.8938592005968848,\n",
       " 0.3558952283397556,\n",
       " 0.28382833050623957,\n",
       " 0.25413564175088965)"
      ]
     },
     "execution_count": 122,
     "metadata": {},
     "output_type": "execute_result"
    }
   ],
   "source": [
    "my_metric(y, preds1)"
   ]
  },
  {
   "cell_type": "code",
   "execution_count": 123,
   "id": "2d76990d",
   "metadata": {
    "pycharm": {
     "name": "#%%\n"
    }
   },
   "outputs": [
    {
     "data": {
      "text/plain": [
       "(0.8541198898857254,\n",
       " 0.32121048725985796,\n",
       " 0.2720670636551116,\n",
       " 0.26084233897075587)"
      ]
     },
     "execution_count": 123,
     "metadata": {},
     "output_type": "execute_result"
    }
   ],
   "source": [
    "my_metric(y, preds2)"
   ]
  },
  {
   "cell_type": "code",
   "execution_count": 124,
   "id": "e0b89df6",
   "metadata": {
    "pycharm": {
     "name": "#%%\n"
    }
   },
   "outputs": [
    {
     "data": {
      "text/plain": [
       "(0.6963091484413472,\n",
       " 0.19231865601416565,\n",
       " 0.26946807013595553,\n",
       " 0.23452242229122597)"
      ]
     },
     "execution_count": 124,
     "metadata": {},
     "output_type": "execute_result"
    }
   ],
   "source": [
    "my_metric(y, preds3)"
   ]
  },
  {
   "cell_type": "code",
   "execution_count": 125,
   "id": "b330be9e",
   "metadata": {
    "pycharm": {
     "name": "#%%\n"
    }
   },
   "outputs": [
    {
     "data": {
      "text/plain": [
       "(0.6616841378266715,\n",
       " 0.16497621232865287,\n",
       " 0.25504590577806735,\n",
       " 0.24166201971995124)"
      ]
     },
     "execution_count": 125,
     "metadata": {},
     "output_type": "execute_result"
    }
   ],
   "source": [
    "my_metric(y, preds4)"
   ]
  },
  {
   "cell_type": "markdown",
   "id": "ebddff57",
   "metadata": {
    "pycharm": {
     "name": "#%% md\n"
    }
   },
   "source": [
    "Выводы:\n",
    "- И логарифмирование целевой переменной, и обрезка выбросов ухудщают метрики, причем больше всего обрезка выбросов\n",
    "- Пока это не будем использовать, но возможно стоит попробовать на других моделяю"
   ]
  },
  {
   "cell_type": "markdown",
   "id": "fd5533e7",
   "metadata": {
    "pycharm": {
     "name": "#%% md\n"
    }
   },
   "source": [
    "## Train simple random forest with 1000 trees"
   ]
  },
  {
   "cell_type": "code",
   "execution_count": 121,
   "id": "bcb47a2d",
   "metadata": {
    "pycharm": {
     "name": "#%%\n"
    }
   },
   "outputs": [],
   "source": [
    "model = RandomForestRegressor(n_estimators=1000, n_jobs=-1)"
   ]
  },
  {
   "cell_type": "code",
   "execution_count": 122,
   "id": "93f3f984",
   "metadata": {
    "pycharm": {
     "name": "#%%\n"
    }
   },
   "outputs": [
    {
     "name": "stdout",
     "output_type": "stream",
     "text": [
      "Wall time: 16min 1s\n"
     ]
    },
    {
     "data": {
      "text/plain": [
       "RandomForestRegressor(n_estimators=1000, n_jobs=-1)"
      ]
     },
     "execution_count": 122,
     "metadata": {},
     "output_type": "execute_result"
    }
   ],
   "source": [
    "%%time\n",
    "#model.fit(X,y)"
   ]
  },
  {
   "cell_type": "code",
   "execution_count": 123,
   "id": "4b86ce9c",
   "metadata": {
    "pycharm": {
     "name": "#%%\n"
    }
   },
   "outputs": [],
   "source": [
    "#preds = model.predict(X)"
   ]
  },
  {
   "cell_type": "code",
   "execution_count": 124,
   "id": "a7d15996",
   "metadata": {
    "pycharm": {
     "name": "#%%\n"
    }
   },
   "outputs": [
    {
     "data": {
      "text/plain": [
       "(0.9317596455378674,\n",
       " 0.372370229905858,\n",
       " 0.28945648936304835,\n",
       " 0.26993292626896104)"
      ]
     },
     "execution_count": 124,
     "metadata": {},
     "output_type": "execute_result"
    }
   ],
   "source": [
    "#my_metric(y, preds)"
   ]
  },
  {
   "cell_type": "code",
   "execution_count": 125,
   "id": "f71dfd4f",
   "metadata": {
    "pycharm": {
     "name": "#%%\n"
    }
   },
   "outputs": [
    {
     "name": "stderr",
     "output_type": "stream",
     "text": [
      "C:\\Soft\\Anaconda\\lib\\site-packages\\pandas\\core\\arraylike.py:364: RuntimeWarning: divide by zero encountered in log\n",
      "  result = getattr(ufunc, method)(*inputs, **kwargs)\n"
     ]
    }
   ],
   "source": [
    "#x_test = preprocess.transform(test_df)"
   ]
  },
  {
   "cell_type": "code",
   "execution_count": 126,
   "id": "b11666e7",
   "metadata": {
    "pycharm": {
     "name": "#%%\n"
    }
   },
   "outputs": [],
   "source": [
    "preds = model.predict(x_test)"
   ]
  },
  {
   "cell_type": "code",
   "execution_count": 127,
   "id": "123038c9",
   "metadata": {
    "pycharm": {
     "name": "#%%\n"
    }
   },
   "outputs": [],
   "source": [
    "write_down_predictions(preds, \"local2. random_forest 1000.csv\")"
   ]
  },
  {
   "cell_type": "markdown",
   "id": "18fe3b7d",
   "metadata": {
    "pycharm": {
     "name": "#%% md\n"
    }
   },
   "source": [
    "## Сделаем локальную валидацию, отделим валидационный набор"
   ]
  },
  {
   "cell_type": "code",
   "execution_count": 22,
   "id": "63a1580f",
   "metadata": {
    "pycharm": {
     "name": "#%%\n"
    }
   },
   "outputs": [],
   "source": [
    "valid_train_df, valid_test_df = train_test_split(train_df, test_size=0.2, random_state=42, shuffle=True)"
   ]
  },
  {
   "cell_type": "code",
   "execution_count": 54,
   "id": "1d318758",
   "metadata": {
    "pycharm": {
     "name": "#%%\n"
    }
   },
   "outputs": [],
   "source": [
    "model = RandomForestRegressor(n_estimators=20, random_state=RANDOM_STATE)"
   ]
  },
  {
   "cell_type": "code",
   "execution_count": 50,
   "id": "83b00457",
   "metadata": {
    "pycharm": {
     "name": "#%%\n"
    }
   },
   "outputs": [
    {
     "name": "stderr",
     "output_type": "stream",
     "text": [
      "C:\\Soft\\Anaconda\\lib\\site-packages\\pandas\\core\\arraylike.py:364: RuntimeWarning: divide by zero encountered in log\n",
      "  result = getattr(ufunc, method)(*inputs, **kwargs)\n",
      "C:\\Soft\\Anaconda\\lib\\site-packages\\pandas\\core\\arraylike.py:364: RuntimeWarning: divide by zero encountered in log\n",
      "  result = getattr(ufunc, method)(*inputs, **kwargs)\n"
     ]
    },
    {
     "name": "stdout",
     "output_type": "stream",
     "text": [
      "Wall time: 3.25 s\n"
     ]
    }
   ],
   "source": [
    "%%time\n",
    "X_train = preprocess.transform(valid_train_df)\n",
    "y_train = valid_train_df[[\"views\", \"depth\", \"full_reads_percent\"]]\n",
    "\n",
    "X_test = preprocess.transform(valid_test_df)\n",
    "y_test = valid_test_df[[\"views\", \"depth\", \"full_reads_percent\"]]\n",
    "\n"
   ]
  },
  {
   "cell_type": "code",
   "execution_count": 55,
   "id": "e9195a9e",
   "metadata": {
    "pycharm": {
     "name": "#%%\n"
    }
   },
   "outputs": [
    {
     "name": "stdout",
     "output_type": "stream",
     "text": [
      "Wall time: 22.7 s\n"
     ]
    },
    {
     "data": {
      "text/plain": [
       "RandomForestRegressor(n_estimators=20, random_state=44)"
      ]
     },
     "execution_count": 55,
     "metadata": {},
     "output_type": "execute_result"
    }
   ],
   "source": [
    "%%time\n",
    "model.fit(X_train, y_train)"
   ]
  },
  {
   "cell_type": "code",
   "execution_count": 56,
   "id": "aea8c9b7",
   "metadata": {
    "pycharm": {
     "name": "#%%\n"
    }
   },
   "outputs": [],
   "source": [
    "preds = model.predict(X_test)"
   ]
  },
  {
   "cell_type": "code",
   "execution_count": 57,
   "id": "e0340f78",
   "metadata": {
    "pycharm": {
     "name": "#%%\n"
    }
   },
   "outputs": [
    {
     "data": {
      "text/plain": [
       "(0.5505679603112843,\n",
       " 0.27710126175703836,\n",
       " 0.2246971035024428,\n",
       " 0.048769595051803116)"
      ]
     },
     "execution_count": 57,
     "metadata": {},
     "output_type": "execute_result"
    }
   ],
   "source": [
    "my_metric(y_test, preds)"
   ]
  },
  {
   "cell_type": "markdown",
   "id": "60380075",
   "metadata": {
    "pycharm": {
     "name": "#%% md\n"
    }
   },
   "source": [
    "Ну такой себе скор, причем просел видно что на full_reads_percent, его вообще не угадал"
   ]
  },
  {
   "cell_type": "code",
   "execution_count": 153,
   "id": "4f3f0278",
   "metadata": {
    "pycharm": {
     "name": "#%%\n"
    }
   },
   "outputs": [
    {
     "data": {
      "text/html": [
       "<div>\n",
       "<style scoped>\n",
       "    .dataframe tbody tr th:only-of-type {\n",
       "        vertical-align: middle;\n",
       "    }\n",
       "\n",
       "    .dataframe tbody tr th {\n",
       "        vertical-align: top;\n",
       "    }\n",
       "\n",
       "    .dataframe thead th {\n",
       "        text-align: right;\n",
       "    }\n",
       "</style>\n",
       "<table border=\"1\" class=\"dataframe\">\n",
       "  <thead>\n",
       "    <tr style=\"text-align: right;\">\n",
       "      <th></th>\n",
       "      <th>full_reads_percent</th>\n",
       "    </tr>\n",
       "    <tr>\n",
       "      <th>document_id</th>\n",
       "      <th></th>\n",
       "    </tr>\n",
       "  </thead>\n",
       "  <tbody>\n",
       "    <tr>\n",
       "      <th>6263fbeb9a794761fa1c9376GdvEEJMZRXa38h4sJlwntg</th>\n",
       "      <td>5.37</td>\n",
       "    </tr>\n",
       "    <tr>\n",
       "      <th>6283aadb9a794705cc4ac991JnuDF1b9TZCuQ3VU56NrcA</th>\n",
       "      <td>-10.29</td>\n",
       "    </tr>\n",
       "    <tr>\n",
       "      <th>61fd51029a79478831c73fb6vO1lIZGVSA6bcD86zFD_GQ</th>\n",
       "      <td>1.88</td>\n",
       "    </tr>\n",
       "    <tr>\n",
       "      <th>6270fb119a7947ad76f31a99mk49J4pYQJel6lQQ9QNs4g</th>\n",
       "      <td>6.71</td>\n",
       "    </tr>\n",
       "    <tr>\n",
       "      <th>625ae6bf9a794712dc71f3beh3_sjwUqRrWd4t2UmMI_KA</th>\n",
       "      <td>10.63</td>\n",
       "    </tr>\n",
       "    <tr>\n",
       "      <th>...</th>\n",
       "      <td>...</td>\n",
       "    </tr>\n",
       "    <tr>\n",
       "      <th>6245617c9a7947bc739707c6W7orlrmeRMWJyOIhg8AADQ</th>\n",
       "      <td>-14.22</td>\n",
       "    </tr>\n",
       "    <tr>\n",
       "      <th>628381d19a794778b3dea1bf6UHf2I9-ShKAFECe99AexQ</th>\n",
       "      <td>2.89</td>\n",
       "    </tr>\n",
       "    <tr>\n",
       "      <th>627070f39a79478c90d17e708QhTqUYuQOyA9EcJEYHHjQ</th>\n",
       "      <td>-15.93</td>\n",
       "    </tr>\n",
       "    <tr>\n",
       "      <th>62855f7e9a79479a4008576dkSYRUq_GS6CgTPH4kdteoA</th>\n",
       "      <td>7.14</td>\n",
       "    </tr>\n",
       "    <tr>\n",
       "      <th>626130139a79478342835a0e-6Ti0o7SQxuwpz5t1S08tQ</th>\n",
       "      <td>-1.61</td>\n",
       "    </tr>\n",
       "  </tbody>\n",
       "</table>\n",
       "<p>1400 rows × 1 columns</p>\n",
       "</div>"
      ],
      "text/plain": [
       "                                                full_reads_percent\n",
       "document_id                                                       \n",
       "6263fbeb9a794761fa1c9376GdvEEJMZRXa38h4sJlwntg                5.37\n",
       "6283aadb9a794705cc4ac991JnuDF1b9TZCuQ3VU56NrcA              -10.29\n",
       "61fd51029a79478831c73fb6vO1lIZGVSA6bcD86zFD_GQ                1.88\n",
       "6270fb119a7947ad76f31a99mk49J4pYQJel6lQQ9QNs4g                6.71\n",
       "625ae6bf9a794712dc71f3beh3_sjwUqRrWd4t2UmMI_KA               10.63\n",
       "...                                                            ...\n",
       "6245617c9a7947bc739707c6W7orlrmeRMWJyOIhg8AADQ              -14.22\n",
       "628381d19a794778b3dea1bf6UHf2I9-ShKAFECe99AexQ                2.89\n",
       "627070f39a79478c90d17e708QhTqUYuQOyA9EcJEYHHjQ              -15.93\n",
       "62855f7e9a79479a4008576dkSYRUq_GS6CgTPH4kdteoA                7.14\n",
       "626130139a79478342835a0e-6Ti0o7SQxuwpz5t1S08tQ               -1.61\n",
       "\n",
       "[1400 rows x 1 columns]"
      ]
     },
     "execution_count": 153,
     "metadata": {},
     "output_type": "execute_result"
    }
   ],
   "source": [
    "pd.DataFrame(y_test.full_reads_percent- preds[:,2])"
   ]
  },
  {
   "cell_type": "markdown",
   "id": "3a0344da",
   "metadata": {
    "pycharm": {
     "name": "#%% md\n"
    }
   },
   "source": [
    "## Попробуем подобрать параметры деревьев\n",
    "- Глубина дерева\n",
    "- Количетво фичей в дереве\n",
    "- Количество деревьев будем брать равное 20, чтобы быстрее считало, потом обучим на 1000"
   ]
  },
  {
   "cell_type": "code",
   "execution_count": 65,
   "id": "0aac2bc5",
   "metadata": {
    "pycharm": {
     "name": "#%%\n"
    }
   },
   "outputs": [
    {
     "data": {
      "text/plain": [
       "17377"
      ]
     },
     "execution_count": 65,
     "metadata": {},
     "output_type": "execute_result"
    }
   ],
   "source": [
    "X_train.shape[1]"
   ]
  },
  {
   "cell_type": "code",
   "execution_count": 102,
   "id": "54ec262e",
   "metadata": {
    "pycharm": {
     "name": "#%%\n"
    }
   },
   "outputs": [],
   "source": [
    "parameters = dict(\n",
    "    max_features=[650, 700, 750],\n",
    "    max_depth =[500, 700, 1000]\n",
    ")\n",
    "model = RandomForestRegressor(n_estimators=100, random_state=RANDOM_STATE, n_jobs=-1)\n",
    "clf = RandomizedSearchCV(model, parameters, random_state=RANDOM_STATE, n_iter=20)"
   ]
  },
  {
   "cell_type": "code",
   "execution_count": 103,
   "id": "e53cd128",
   "metadata": {
    "pycharm": {
     "name": "#%%\n"
    }
   },
   "outputs": [
    {
     "name": "stderr",
     "output_type": "stream",
     "text": [
      "C:\\Soft\\Anaconda\\lib\\site-packages\\pandas\\core\\arraylike.py:364: RuntimeWarning: divide by zero encountered in log\n",
      "  result = getattr(ufunc, method)(*inputs, **kwargs)\n"
     ]
    },
    {
     "name": "stdout",
     "output_type": "stream",
     "text": [
      "Wall time: 3.76 s\n"
     ]
    }
   ],
   "source": [
    "%%time\n",
    "X_train = preprocess.transform(train_df)\n",
    "y_train = train_df[[\"views\", \"depth\", \"full_reads_percent\"]]"
   ]
  },
  {
   "cell_type": "code",
   "execution_count": 104,
   "id": "1713c985",
   "metadata": {
    "pycharm": {
     "name": "#%%\n"
    }
   },
   "outputs": [
    {
     "name": "stderr",
     "output_type": "stream",
     "text": [
      "C:\\Soft\\Anaconda\\lib\\site-packages\\sklearn\\model_selection\\_search.py:285: UserWarning: The total space of parameters 9 is smaller than n_iter=20. Running 9 iterations. For exhaustive searches, use GridSearchCV.\n",
      "  warnings.warn(\n"
     ]
    },
    {
     "name": "stdout",
     "output_type": "stream",
     "text": [
      "Wall time: 6min 12s\n"
     ]
    }
   ],
   "source": [
    "%%time\n",
    "search = clf.fit(X_train, y_train)"
   ]
  },
  {
   "cell_type": "code",
   "execution_count": 105,
   "id": "d0fd259b",
   "metadata": {
    "pycharm": {
     "name": "#%%\n"
    }
   },
   "outputs": [
    {
     "data": {
      "text/plain": [
       "{'max_features': 700, 'max_depth': 700}"
      ]
     },
     "execution_count": 105,
     "metadata": {},
     "output_type": "execute_result"
    }
   ],
   "source": [
    "search.best_params_"
   ]
  },
  {
   "cell_type": "code",
   "execution_count": 106,
   "id": "af186855",
   "metadata": {
    "pycharm": {
     "name": "#%%\n"
    }
   },
   "outputs": [
    {
     "data": {
      "text/html": [
       "<div>\n",
       "<style scoped>\n",
       "    .dataframe tbody tr th:only-of-type {\n",
       "        vertical-align: middle;\n",
       "    }\n",
       "\n",
       "    .dataframe tbody tr th {\n",
       "        vertical-align: top;\n",
       "    }\n",
       "\n",
       "    .dataframe thead th {\n",
       "        text-align: right;\n",
       "    }\n",
       "</style>\n",
       "<table border=\"1\" class=\"dataframe\">\n",
       "  <thead>\n",
       "    <tr style=\"text-align: right;\">\n",
       "      <th></th>\n",
       "      <th>param_max_features</th>\n",
       "      <th>param_max_depth</th>\n",
       "      <th>rank_test_score</th>\n",
       "      <th>mean_test_score</th>\n",
       "    </tr>\n",
       "  </thead>\n",
       "  <tbody>\n",
       "    <tr>\n",
       "      <th>0</th>\n",
       "      <td>650</td>\n",
       "      <td>500</td>\n",
       "      <td>4</td>\n",
       "      <td>0.52</td>\n",
       "    </tr>\n",
       "    <tr>\n",
       "      <th>1</th>\n",
       "      <td>700</td>\n",
       "      <td>500</td>\n",
       "      <td>3</td>\n",
       "      <td>0.52</td>\n",
       "    </tr>\n",
       "    <tr>\n",
       "      <th>2</th>\n",
       "      <td>750</td>\n",
       "      <td>500</td>\n",
       "      <td>7</td>\n",
       "      <td>0.50</td>\n",
       "    </tr>\n",
       "    <tr>\n",
       "      <th>3</th>\n",
       "      <td>650</td>\n",
       "      <td>700</td>\n",
       "      <td>4</td>\n",
       "      <td>0.52</td>\n",
       "    </tr>\n",
       "    <tr>\n",
       "      <th>4</th>\n",
       "      <td>700</td>\n",
       "      <td>700</td>\n",
       "      <td>1</td>\n",
       "      <td>0.52</td>\n",
       "    </tr>\n",
       "    <tr>\n",
       "      <th>5</th>\n",
       "      <td>750</td>\n",
       "      <td>700</td>\n",
       "      <td>7</td>\n",
       "      <td>0.50</td>\n",
       "    </tr>\n",
       "    <tr>\n",
       "      <th>6</th>\n",
       "      <td>650</td>\n",
       "      <td>1000</td>\n",
       "      <td>4</td>\n",
       "      <td>0.52</td>\n",
       "    </tr>\n",
       "    <tr>\n",
       "      <th>7</th>\n",
       "      <td>700</td>\n",
       "      <td>1000</td>\n",
       "      <td>1</td>\n",
       "      <td>0.52</td>\n",
       "    </tr>\n",
       "    <tr>\n",
       "      <th>8</th>\n",
       "      <td>750</td>\n",
       "      <td>1000</td>\n",
       "      <td>7</td>\n",
       "      <td>0.50</td>\n",
       "    </tr>\n",
       "  </tbody>\n",
       "</table>\n",
       "</div>"
      ],
      "text/plain": [
       "  param_max_features param_max_depth  rank_test_score  mean_test_score\n",
       "0                650             500                4             0.52\n",
       "1                700             500                3             0.52\n",
       "2                750             500                7             0.50\n",
       "3                650             700                4             0.52\n",
       "4                700             700                1             0.52\n",
       "5                750             700                7             0.50\n",
       "6                650            1000                4             0.52\n",
       "7                700            1000                1             0.52\n",
       "8                750            1000                7             0.50"
      ]
     },
     "execution_count": 106,
     "metadata": {},
     "output_type": "execute_result"
    }
   ],
   "source": [
    "pd.DataFrame(search.cv_results_)[[\"param_max_features\", \"param_max_depth\", \"rank_test_score\", \"mean_test_score\"]]"
   ]
  },
  {
   "cell_type": "code",
   "execution_count": null,
   "id": "3ee725a3",
   "metadata": {
    "pycharm": {
     "name": "#%%\n"
    }
   },
   "outputs": [],
   "source": []
  },
  {
   "cell_type": "code",
   "execution_count": 100,
   "id": "95b252af",
   "metadata": {
    "pycharm": {
     "name": "#%%\n"
    }
   },
   "outputs": [
    {
     "data": {
      "text/plain": [
       "{'max_features': 700, 'max_depth': 500}"
      ]
     },
     "execution_count": 100,
     "metadata": {},
     "output_type": "execute_result"
    }
   ],
   "source": [
    "search.best_params_"
   ]
  },
  {
   "cell_type": "code",
   "execution_count": 101,
   "id": "4de7ab41",
   "metadata": {
    "pycharm": {
     "name": "#%%\n"
    }
   },
   "outputs": [
    {
     "data": {
      "text/html": [
       "<div>\n",
       "<style scoped>\n",
       "    .dataframe tbody tr th:only-of-type {\n",
       "        vertical-align: middle;\n",
       "    }\n",
       "\n",
       "    .dataframe tbody tr th {\n",
       "        vertical-align: top;\n",
       "    }\n",
       "\n",
       "    .dataframe thead th {\n",
       "        text-align: right;\n",
       "    }\n",
       "</style>\n",
       "<table border=\"1\" class=\"dataframe\">\n",
       "  <thead>\n",
       "    <tr style=\"text-align: right;\">\n",
       "      <th></th>\n",
       "      <th>param_max_features</th>\n",
       "      <th>param_max_depth</th>\n",
       "      <th>rank_test_score</th>\n",
       "      <th>mean_test_score</th>\n",
       "    </tr>\n",
       "  </thead>\n",
       "  <tbody>\n",
       "    <tr>\n",
       "      <th>0</th>\n",
       "      <td>600</td>\n",
       "      <td>200</td>\n",
       "      <td>12</td>\n",
       "      <td>0.51</td>\n",
       "    </tr>\n",
       "    <tr>\n",
       "      <th>1</th>\n",
       "      <td>700</td>\n",
       "      <td>200</td>\n",
       "      <td>4</td>\n",
       "      <td>0.52</td>\n",
       "    </tr>\n",
       "    <tr>\n",
       "      <th>2</th>\n",
       "      <td>800</td>\n",
       "      <td>200</td>\n",
       "      <td>5</td>\n",
       "      <td>0.52</td>\n",
       "    </tr>\n",
       "    <tr>\n",
       "      <th>3</th>\n",
       "      <td>600</td>\n",
       "      <td>300</td>\n",
       "      <td>9</td>\n",
       "      <td>0.51</td>\n",
       "    </tr>\n",
       "    <tr>\n",
       "      <th>4</th>\n",
       "      <td>700</td>\n",
       "      <td>300</td>\n",
       "      <td>2</td>\n",
       "      <td>0.52</td>\n",
       "    </tr>\n",
       "    <tr>\n",
       "      <th>5</th>\n",
       "      <td>800</td>\n",
       "      <td>300</td>\n",
       "      <td>6</td>\n",
       "      <td>0.52</td>\n",
       "    </tr>\n",
       "    <tr>\n",
       "      <th>6</th>\n",
       "      <td>600</td>\n",
       "      <td>400</td>\n",
       "      <td>9</td>\n",
       "      <td>0.51</td>\n",
       "    </tr>\n",
       "    <tr>\n",
       "      <th>7</th>\n",
       "      <td>700</td>\n",
       "      <td>400</td>\n",
       "      <td>2</td>\n",
       "      <td>0.52</td>\n",
       "    </tr>\n",
       "    <tr>\n",
       "      <th>8</th>\n",
       "      <td>800</td>\n",
       "      <td>400</td>\n",
       "      <td>6</td>\n",
       "      <td>0.52</td>\n",
       "    </tr>\n",
       "    <tr>\n",
       "      <th>9</th>\n",
       "      <td>600</td>\n",
       "      <td>500</td>\n",
       "      <td>9</td>\n",
       "      <td>0.51</td>\n",
       "    </tr>\n",
       "    <tr>\n",
       "      <th>10</th>\n",
       "      <td>700</td>\n",
       "      <td>500</td>\n",
       "      <td>1</td>\n",
       "      <td>0.52</td>\n",
       "    </tr>\n",
       "    <tr>\n",
       "      <th>11</th>\n",
       "      <td>800</td>\n",
       "      <td>500</td>\n",
       "      <td>6</td>\n",
       "      <td>0.52</td>\n",
       "    </tr>\n",
       "  </tbody>\n",
       "</table>\n",
       "</div>"
      ],
      "text/plain": [
       "   param_max_features param_max_depth  rank_test_score  mean_test_score\n",
       "0                 600             200               12             0.51\n",
       "1                 700             200                4             0.52\n",
       "2                 800             200                5             0.52\n",
       "3                 600             300                9             0.51\n",
       "4                 700             300                2             0.52\n",
       "5                 800             300                6             0.52\n",
       "6                 600             400                9             0.51\n",
       "7                 700             400                2             0.52\n",
       "8                 800             400                6             0.52\n",
       "9                 600             500                9             0.51\n",
       "10                700             500                1             0.52\n",
       "11                800             500                6             0.52"
      ]
     },
     "execution_count": 101,
     "metadata": {},
     "output_type": "execute_result"
    }
   ],
   "source": [
    "pd.DataFrame(search.cv_results_)[[\"param_max_features\", \"param_max_depth\", \"rank_test_score\", \"mean_test_score\"]]"
   ]
  },
  {
   "cell_type": "code",
   "execution_count": 96,
   "id": "8f736fb1",
   "metadata": {
    "pycharm": {
     "name": "#%%\n"
    }
   },
   "outputs": [
    {
     "data": {
      "text/html": [
       "<div>\n",
       "<style scoped>\n",
       "    .dataframe tbody tr th:only-of-type {\n",
       "        vertical-align: middle;\n",
       "    }\n",
       "\n",
       "    .dataframe tbody tr th {\n",
       "        vertical-align: top;\n",
       "    }\n",
       "\n",
       "    .dataframe thead th {\n",
       "        text-align: right;\n",
       "    }\n",
       "</style>\n",
       "<table border=\"1\" class=\"dataframe\">\n",
       "  <thead>\n",
       "    <tr style=\"text-align: right;\">\n",
       "      <th></th>\n",
       "      <th>param_max_features</th>\n",
       "      <th>param_max_depth</th>\n",
       "      <th>rank_test_score</th>\n",
       "      <th>mean_test_score</th>\n",
       "    </tr>\n",
       "  </thead>\n",
       "  <tbody>\n",
       "    <tr>\n",
       "      <th>0</th>\n",
       "      <td>300</td>\n",
       "      <td>70</td>\n",
       "      <td>20</td>\n",
       "      <td>0.45</td>\n",
       "    </tr>\n",
       "    <tr>\n",
       "      <th>1</th>\n",
       "      <td>400</td>\n",
       "      <td>70</td>\n",
       "      <td>19</td>\n",
       "      <td>0.48</td>\n",
       "    </tr>\n",
       "    <tr>\n",
       "      <th>2</th>\n",
       "      <td>500</td>\n",
       "      <td>70</td>\n",
       "      <td>18</td>\n",
       "      <td>0.49</td>\n",
       "    </tr>\n",
       "    <tr>\n",
       "      <th>3</th>\n",
       "      <td>700</td>\n",
       "      <td>70</td>\n",
       "      <td>11</td>\n",
       "      <td>0.51</td>\n",
       "    </tr>\n",
       "    <tr>\n",
       "      <th>4</th>\n",
       "      <td>1000</td>\n",
       "      <td>70</td>\n",
       "      <td>12</td>\n",
       "      <td>0.50</td>\n",
       "    </tr>\n",
       "    <tr>\n",
       "      <th>5</th>\n",
       "      <td>300</td>\n",
       "      <td>120</td>\n",
       "      <td>17</td>\n",
       "      <td>0.49</td>\n",
       "    </tr>\n",
       "    <tr>\n",
       "      <th>6</th>\n",
       "      <td>400</td>\n",
       "      <td>120</td>\n",
       "      <td>14</td>\n",
       "      <td>0.50</td>\n",
       "    </tr>\n",
       "    <tr>\n",
       "      <th>7</th>\n",
       "      <td>500</td>\n",
       "      <td>120</td>\n",
       "      <td>6</td>\n",
       "      <td>0.51</td>\n",
       "    </tr>\n",
       "    <tr>\n",
       "      <th>8</th>\n",
       "      <td>700</td>\n",
       "      <td>120</td>\n",
       "      <td>5</td>\n",
       "      <td>0.51</td>\n",
       "    </tr>\n",
       "    <tr>\n",
       "      <th>9</th>\n",
       "      <td>1000</td>\n",
       "      <td>120</td>\n",
       "      <td>8</td>\n",
       "      <td>0.51</td>\n",
       "    </tr>\n",
       "    <tr>\n",
       "      <th>10</th>\n",
       "      <td>300</td>\n",
       "      <td>150</td>\n",
       "      <td>16</td>\n",
       "      <td>0.49</td>\n",
       "    </tr>\n",
       "    <tr>\n",
       "      <th>11</th>\n",
       "      <td>400</td>\n",
       "      <td>150</td>\n",
       "      <td>13</td>\n",
       "      <td>0.50</td>\n",
       "    </tr>\n",
       "    <tr>\n",
       "      <th>12</th>\n",
       "      <td>500</td>\n",
       "      <td>150</td>\n",
       "      <td>10</td>\n",
       "      <td>0.51</td>\n",
       "    </tr>\n",
       "    <tr>\n",
       "      <th>13</th>\n",
       "      <td>700</td>\n",
       "      <td>150</td>\n",
       "      <td>2</td>\n",
       "      <td>0.52</td>\n",
       "    </tr>\n",
       "    <tr>\n",
       "      <th>14</th>\n",
       "      <td>1000</td>\n",
       "      <td>150</td>\n",
       "      <td>3</td>\n",
       "      <td>0.52</td>\n",
       "    </tr>\n",
       "    <tr>\n",
       "      <th>15</th>\n",
       "      <td>300</td>\n",
       "      <td>200</td>\n",
       "      <td>15</td>\n",
       "      <td>0.50</td>\n",
       "    </tr>\n",
       "    <tr>\n",
       "      <th>16</th>\n",
       "      <td>400</td>\n",
       "      <td>200</td>\n",
       "      <td>9</td>\n",
       "      <td>0.51</td>\n",
       "    </tr>\n",
       "    <tr>\n",
       "      <th>17</th>\n",
       "      <td>500</td>\n",
       "      <td>200</td>\n",
       "      <td>7</td>\n",
       "      <td>0.51</td>\n",
       "    </tr>\n",
       "    <tr>\n",
       "      <th>18</th>\n",
       "      <td>700</td>\n",
       "      <td>200</td>\n",
       "      <td>1</td>\n",
       "      <td>0.52</td>\n",
       "    </tr>\n",
       "    <tr>\n",
       "      <th>19</th>\n",
       "      <td>1000</td>\n",
       "      <td>200</td>\n",
       "      <td>4</td>\n",
       "      <td>0.52</td>\n",
       "    </tr>\n",
       "  </tbody>\n",
       "</table>\n",
       "</div>"
      ],
      "text/plain": [
       "   param_max_features param_max_depth  rank_test_score  mean_test_score\n",
       "0                 300              70               20             0.45\n",
       "1                 400              70               19             0.48\n",
       "2                 500              70               18             0.49\n",
       "3                 700              70               11             0.51\n",
       "4                1000              70               12             0.50\n",
       "5                 300             120               17             0.49\n",
       "6                 400             120               14             0.50\n",
       "7                 500             120                6             0.51\n",
       "8                 700             120                5             0.51\n",
       "9                1000             120                8             0.51\n",
       "10                300             150               16             0.49\n",
       "11                400             150               13             0.50\n",
       "12                500             150               10             0.51\n",
       "13                700             150                2             0.52\n",
       "14               1000             150                3             0.52\n",
       "15                300             200               15             0.50\n",
       "16                400             200                9             0.51\n",
       "17                500             200                7             0.51\n",
       "18                700             200                1             0.52\n",
       "19               1000             200                4             0.52"
      ]
     },
     "execution_count": 96,
     "metadata": {},
     "output_type": "execute_result"
    }
   ],
   "source": [
    "pd.DataFrame(search.cv_results_)[[\"param_max_features\", \"param_max_depth\", \"rank_test_score\", \"mean_test_score\"]]"
   ]
  },
  {
   "cell_type": "code",
   "execution_count": 84,
   "id": "b7db26fe",
   "metadata": {
    "pycharm": {
     "name": "#%%\n"
    }
   },
   "outputs": [
    {
     "data": {
      "text/plain": [
       "{'max_features': 1000, 'max_depth': 70}"
      ]
     },
     "execution_count": 84,
     "metadata": {},
     "output_type": "execute_result"
    }
   ],
   "source": [
    "search.best_params_"
   ]
  },
  {
   "cell_type": "code",
   "execution_count": null,
   "id": "07814547",
   "metadata": {
    "pycharm": {
     "name": "#%%\n"
    }
   },
   "outputs": [],
   "source": []
  },
  {
   "cell_type": "code",
   "execution_count": 79,
   "id": "81d3e659",
   "metadata": {
    "pycharm": {
     "name": "#%%\n"
    }
   },
   "outputs": [
    {
     "data": {
      "text/plain": [
       "{'max_features': 5000, 'max_depth': 20}"
      ]
     },
     "execution_count": 79,
     "metadata": {},
     "output_type": "execute_result"
    }
   ],
   "source": [
    "search.best_params_"
   ]
  },
  {
   "cell_type": "markdown",
   "id": "1f5e3de5",
   "metadata": {
    "pycharm": {
     "name": "#%% md\n"
    }
   },
   "source": [
    "### Лушчие параметры\n",
    "**{'max_features': 700, 'max_depth': 200}**"
   ]
  },
  {
   "cell_type": "code",
   "execution_count": 88,
   "id": "1fda6cb8",
   "metadata": {
    "pycharm": {
     "name": "#%%\n"
    }
   },
   "outputs": [
    {
     "data": {
      "text/plain": [
       "{'max_features': 700, 'max_depth': 200}"
      ]
     },
     "execution_count": 88,
     "metadata": {},
     "output_type": "execute_result"
    }
   ],
   "source": [
    "search.best_params_"
   ]
  },
  {
   "cell_type": "markdown",
   "id": "1001c19b",
   "metadata": {
    "pycharm": {
     "name": "#%% md\n"
    }
   },
   "source": [
    "## Попробучем обучить модель на лучших параметрах (700, 700) и на 1000 деревьев, Что за прогноз будет"
   ]
  },
  {
   "cell_type": "code",
   "execution_count": 114,
   "id": "96cf40bc",
   "metadata": {
    "pycharm": {
     "name": "#%%\n"
    }
   },
   "outputs": [],
   "source": [
    "model = RandomForestRegressor(n_estimators=2000, n_jobs=-1, max_features=700, max_depth=700)"
   ]
  },
  {
   "cell_type": "code",
   "execution_count": 115,
   "id": "c6f61260",
   "metadata": {
    "pycharm": {
     "name": "#%%\n"
    }
   },
   "outputs": [
    {
     "name": "stderr",
     "output_type": "stream",
     "text": [
      "C:\\Soft\\Anaconda\\lib\\site-packages\\pandas\\core\\arraylike.py:364: RuntimeWarning: divide by zero encountered in log\n",
      "  result = getattr(ufunc, method)(*inputs, **kwargs)\n"
     ]
    },
    {
     "name": "stdout",
     "output_type": "stream",
     "text": [
      "Wall time: 3.71 s\n"
     ]
    }
   ],
   "source": [
    "%%time\n",
    "X = preprocess.transform(train_df)\n",
    "y = train_df[[\"views\", \"depth\", \"full_reads_percent\"]]\n"
   ]
  },
  {
   "cell_type": "code",
   "execution_count": 116,
   "id": "233b6b1c",
   "metadata": {
    "pycharm": {
     "name": "#%%\n"
    }
   },
   "outputs": [
    {
     "name": "stdout",
     "output_type": "stream",
     "text": [
      "Wall time: 3min 10s\n"
     ]
    },
    {
     "data": {
      "text/plain": [
       "RandomForestRegressor(max_depth=700, max_features=700, n_estimators=2000,\n",
       "                      n_jobs=-1)"
      ]
     },
     "execution_count": 116,
     "metadata": {},
     "output_type": "execute_result"
    }
   ],
   "source": [
    "%%time\n",
    "model.fit(X,y)"
   ]
  },
  {
   "cell_type": "code",
   "execution_count": 117,
   "id": "496086ee",
   "metadata": {
    "pycharm": {
     "name": "#%%\n"
    }
   },
   "outputs": [
    {
     "name": "stderr",
     "output_type": "stream",
     "text": [
      "C:\\Soft\\Anaconda\\lib\\site-packages\\pandas\\core\\arraylike.py:364: RuntimeWarning: divide by zero encountered in log\n",
      "  result = getattr(ufunc, method)(*inputs, **kwargs)\n"
     ]
    }
   ],
   "source": [
    "x_test = preprocess.transform(test_df)"
   ]
  },
  {
   "cell_type": "code",
   "execution_count": 118,
   "id": "b3788791",
   "metadata": {
    "pycharm": {
     "name": "#%%\n"
    }
   },
   "outputs": [],
   "source": [
    "preds = model.predict(x_test)"
   ]
  },
  {
   "cell_type": "code",
   "execution_count": 120,
   "id": "01712c2e",
   "metadata": {
    "pycharm": {
     "name": "#%%\n"
    }
   },
   "outputs": [],
   "source": [
    "write_down_predictions(preds, \"local3. random_forest 2000 + fit params.csv\")"
   ]
  },
  {
   "cell_type": "markdown",
   "id": "2aa722d9",
   "metadata": {
    "pycharm": {
     "name": "#%% md\n"
    }
   },
   "source": [
    "Проверим улучшился ли результат на лидерборде:\n",
    "Да результат улучшился **(0.65)**"
   ]
  },
  {
   "cell_type": "code",
   "execution_count": 122,
   "id": "7b515c8a",
   "metadata": {
    "pycharm": {
     "name": "#%%\n"
    }
   },
   "outputs": [],
   "source": [
    "preds = model.predict(X)"
   ]
  },
  {
   "cell_type": "code",
   "execution_count": 123,
   "id": "d8d10c0f",
   "metadata": {
    "pycharm": {
     "name": "#%%\n"
    }
   },
   "outputs": [
    {
     "data": {
      "text/plain": [
       "(0.9399306741908753,\n",
       " 0.37833452036341564,\n",
       " 0.28952763119932506,\n",
       " 0.2720685226281346)"
      ]
     },
     "execution_count": 123,
     "metadata": {},
     "output_type": "execute_result"
    }
   ],
   "source": [
    "my_metric(y, preds)"
   ]
  },
  {
   "cell_type": "code",
   "execution_count": 127,
   "id": "4df54e0a",
   "metadata": {
    "pycharm": {
     "name": "#%%\n"
    }
   },
   "outputs": [],
   "source": [
    "with open(\"rf2000.pkl\", \"wb\") as pkl_file:\n",
    "    pickle.dump(model, pkl_file)"
   ]
  },
  {
   "cell_type": "markdown",
   "id": "c853cfda",
   "metadata": {
    "pycharm": {
     "name": "#%% md\n"
    }
   },
   "source": [
    "## Попробуем MultiOutputRegressor \n",
    "Делать отдельные модели для каждой "
   ]
  },
  {
   "cell_type": "code",
   "execution_count": 17,
   "id": "3caea4d1",
   "metadata": {
    "pycharm": {
     "name": "#%%\n"
    }
   },
   "outputs": [],
   "source": [
    "valid_train_df, valid_test_df = train_test_split(train_df, test_size=0.2, random_state=42, shuffle=True)"
   ]
  },
  {
   "cell_type": "code",
   "execution_count": 18,
   "id": "a90afe70",
   "metadata": {
    "pycharm": {
     "name": "#%%\n"
    }
   },
   "outputs": [],
   "source": [
    "model1 = RandomForestRegressor(n_estimators=20, max_features=700, max_depth=700, random_state=RANDOM_STATE)\n",
    "model2 = MultiOutputRegressor(RandomForestRegressor(n_estimators=20, max_features=700, max_depth=700, random_state=RANDOM_STATE))"
   ]
  },
  {
   "cell_type": "code",
   "execution_count": 19,
   "id": "507891d9",
   "metadata": {
    "pycharm": {
     "name": "#%%\n"
    }
   },
   "outputs": [
    {
     "name": "stderr",
     "output_type": "stream",
     "text": [
      "C:\\Soft\\Anaconda\\lib\\site-packages\\pandas\\core\\arraylike.py:364: RuntimeWarning: divide by zero encountered in log\n",
      "  result = getattr(ufunc, method)(*inputs, **kwargs)\n",
      "C:\\Soft\\Anaconda\\lib\\site-packages\\pandas\\core\\arraylike.py:364: RuntimeWarning: divide by zero encountered in log\n",
      "  result = getattr(ufunc, method)(*inputs, **kwargs)\n"
     ]
    },
    {
     "name": "stdout",
     "output_type": "stream",
     "text": [
      "Wall time: 2.94 s\n"
     ]
    }
   ],
   "source": [
    "%%time\n",
    "X_train = preprocess.transform(valid_train_df)\n",
    "y_train = valid_train_df[[\"views\", \"depth\", \"full_reads_percent\"]]\n",
    "\n",
    "X_test = preprocess.transform(valid_test_df)\n",
    "y_test = valid_test_df[[\"views\", \"depth\", \"full_reads_percent\"]]\n"
   ]
  },
  {
   "cell_type": "code",
   "execution_count": 20,
   "id": "a8058258",
   "metadata": {
    "pycharm": {
     "name": "#%%\n"
    }
   },
   "outputs": [
    {
     "name": "stdout",
     "output_type": "stream",
     "text": [
      "Wall time: 18 s\n"
     ]
    },
    {
     "data": {
      "text/plain": [
       "MultiOutputRegressor(estimator=RandomForestRegressor(max_depth=700,\n",
       "                                                     max_features=700,\n",
       "                                                     n_estimators=20,\n",
       "                                                     random_state=44))"
      ]
     },
     "execution_count": 20,
     "metadata": {},
     "output_type": "execute_result"
    }
   ],
   "source": [
    "%%time\n",
    "model1.fit(X_train, y_train)\n",
    "model2.fit(X_train, y_train)"
   ]
  },
  {
   "cell_type": "code",
   "execution_count": 27,
   "id": "b26c12aa",
   "metadata": {
    "pycharm": {
     "name": "#%%\n"
    }
   },
   "outputs": [],
   "source": [
    "preds1 = model1.predict(X_train)\n",
    "preds2 = model2.predict(X_train)\n"
   ]
  },
  {
   "cell_type": "code",
   "execution_count": 28,
   "id": "fff39f4a",
   "metadata": {
    "pycharm": {
     "name": "#%%\n"
    }
   },
   "outputs": [
    {
     "data": {
      "text/plain": [
       "(0.9218316140186791,\n",
       " 0.3712003309810816,\n",
       " 0.2852932008161508,\n",
       " 0.26533808222144656)"
      ]
     },
     "execution_count": 28,
     "metadata": {},
     "output_type": "execute_result"
    }
   ],
   "source": [
    "my_metric(y_train, preds1)"
   ]
  },
  {
   "cell_type": "code",
   "execution_count": 29,
   "id": "38cc4d97",
   "metadata": {
    "pycharm": {
     "name": "#%%\n"
    }
   },
   "outputs": [
    {
     "data": {
      "text/plain": [
       "(0.9212989838317761,\n",
       " 0.366535239605197,\n",
       " 0.28627478092025055,\n",
       " 0.26848896330632854)"
      ]
     },
     "execution_count": 29,
     "metadata": {},
     "output_type": "execute_result"
    }
   ],
   "source": [
    "my_metric(y_train, preds2)"
   ]
  },
  {
   "cell_type": "code",
   "execution_count": 30,
   "id": "afc9aaad",
   "metadata": {
    "pycharm": {
     "name": "#%%\n"
    }
   },
   "outputs": [],
   "source": [
    "preds1 = model1.predict(X_test)\n",
    "preds2 = model2.predict(X_test)\n"
   ]
  },
  {
   "cell_type": "code",
   "execution_count": 31,
   "id": "a4341970",
   "metadata": {
    "pycharm": {
     "name": "#%%\n"
    }
   },
   "outputs": [
    {
     "data": {
      "text/plain": [
       "(0.5165268324760511,\n",
       " 0.21239984391713654,\n",
       " 0.21335739024112113,\n",
       " 0.09076959831779347)"
      ]
     },
     "execution_count": 31,
     "metadata": {},
     "output_type": "execute_result"
    }
   ],
   "source": [
    "my_metric(y_test, preds1)"
   ]
  },
  {
   "cell_type": "code",
   "execution_count": 32,
   "id": "de8e8560",
   "metadata": {
    "pycharm": {
     "name": "#%%\n"
    }
   },
   "outputs": [
    {
     "data": {
      "text/plain": [
       "(0.5532161987070281,\n",
       " 0.20428740366384845,\n",
       " 0.22703070210431409,\n",
       " 0.12189809293886558)"
      ]
     },
     "execution_count": 32,
     "metadata": {},
     "output_type": "execute_result"
    }
   ],
   "source": [
    "my_metric(y_test, preds2)"
   ]
  },
  {
   "cell_type": "markdown",
   "id": "c9598d3b",
   "metadata": {
    "pycharm": {
     "name": "#%% md\n"
    }
   },
   "source": [
    "**Интересно:**\n",
    "- Модель 2 лучше предсказывает 2 и 3 параметр, но хуже первый\n",
    "- Идея попробовать модель MultiOutputRegressor на 2 и 3 колонку, а для первой взять предсказание обученной модели rf2000"
   ]
  },
  {
   "cell_type": "code",
   "execution_count": 55,
   "id": "7841b2b8",
   "metadata": {
    "pycharm": {
     "name": "#%%\n"
    }
   },
   "outputs": [],
   "source": [
    "model = MultiOutputRegressor(RandomForestRegressor(n_estimators=2000, n_jobs=-1, max_features=700, max_depth=700))"
   ]
  },
  {
   "cell_type": "code",
   "execution_count": 56,
   "id": "2d1926b4",
   "metadata": {
    "pycharm": {
     "name": "#%%\n"
    }
   },
   "outputs": [
    {
     "name": "stderr",
     "output_type": "stream",
     "text": [
      "C:\\Soft\\Anaconda\\lib\\site-packages\\pandas\\core\\arraylike.py:364: RuntimeWarning: divide by zero encountered in log\n",
      "  result = getattr(ufunc, method)(*inputs, **kwargs)\n"
     ]
    },
    {
     "name": "stdout",
     "output_type": "stream",
     "text": [
      "Wall time: 2.57 s\n"
     ]
    }
   ],
   "source": [
    "%%time\n",
    "X = preprocess.transform(train_df)\n",
    "y = train_df[[\"depth\", \"full_reads_percent\"]]"
   ]
  },
  {
   "cell_type": "code",
   "execution_count": 57,
   "id": "29238d04",
   "metadata": {
    "pycharm": {
     "name": "#%%\n"
    }
   },
   "outputs": [
    {
     "name": "stdout",
     "output_type": "stream",
     "text": [
      "Wall time: 5min 14s\n"
     ]
    },
    {
     "data": {
      "text/plain": [
       "MultiOutputRegressor(estimator=RandomForestRegressor(max_depth=700,\n",
       "                                                     max_features=700,\n",
       "                                                     n_estimators=2000,\n",
       "                                                     n_jobs=-1))"
      ]
     },
     "execution_count": 57,
     "metadata": {},
     "output_type": "execute_result"
    }
   ],
   "source": [
    "%%time\n",
    "model.fit(X,y)"
   ]
  },
  {
   "cell_type": "code",
   "execution_count": 58,
   "id": "6eb4fcfc",
   "metadata": {
    "pycharm": {
     "name": "#%%\n"
    }
   },
   "outputs": [
    {
     "name": "stderr",
     "output_type": "stream",
     "text": [
      "C:\\Soft\\Anaconda\\lib\\site-packages\\pandas\\core\\arraylike.py:364: RuntimeWarning: divide by zero encountered in log\n",
      "  result = getattr(ufunc, method)(*inputs, **kwargs)\n"
     ]
    }
   ],
   "source": [
    "x_test = preprocess.transform(test_df)"
   ]
  },
  {
   "cell_type": "code",
   "execution_count": 59,
   "id": "7092218f",
   "metadata": {
    "pycharm": {
     "name": "#%%\n"
    }
   },
   "outputs": [],
   "source": [
    "preds_for_2_3 = model.predict(x_test)"
   ]
  },
  {
   "cell_type": "code",
   "execution_count": 42,
   "id": "b6efb618",
   "metadata": {
    "pycharm": {
     "name": "#%%\n"
    }
   },
   "outputs": [],
   "source": [
    "with open(\"models/rf2000.pkl\", \"rb\") as pkl_file:\n",
    "    old_model = pickle.load(pkl_file)"
   ]
  },
  {
   "cell_type": "code",
   "execution_count": 43,
   "id": "58e43616",
   "metadata": {
    "pycharm": {
     "name": "#%%\n"
    }
   },
   "outputs": [],
   "source": [
    "preds_for_1 = old_model.predict(x_test)"
   ]
  },
  {
   "cell_type": "code",
   "execution_count": 60,
   "id": "8343e98e",
   "metadata": {
    "pycharm": {
     "name": "#%%\n"
    }
   },
   "outputs": [],
   "source": [
    "preds = np.c_[preds_for_1[:,0], preds_for_2_3]"
   ]
  },
  {
   "cell_type": "code",
   "execution_count": 61,
   "id": "57ee98f6",
   "metadata": {
    "pycharm": {
     "name": "#%%\n"
    }
   },
   "outputs": [],
   "source": [
    "write_down_predictions(preds, \"local4. random_forest 2000 + MultiOutputRegressor.csv\")"
   ]
  },
  {
   "cell_type": "markdown",
   "id": "ae25cd82",
   "metadata": {
    "pycharm": {
     "name": "#%% md\n"
    }
   },
   "source": [
    "## Эта комбинация показала пока лучший результат на лидерборде"
   ]
  },
  {
   "cell_type": "code",
   "execution_count": null,
   "id": "5892c408",
   "metadata": {
    "pycharm": {
     "name": "#%%\n"
    }
   },
   "outputs": [],
   "source": []
  }
 ],
 "metadata": {
  "kernelspec": {
   "display_name": "Python 3 (ipykernel)",
   "language": "python",
   "name": "python3"
  },
  "language_info": {
   "codemirror_mode": {
    "name": "ipython",
    "version": 3
   },
   "file_extension": ".py",
   "mimetype": "text/x-python",
   "name": "python",
   "nbconvert_exporter": "python",
   "pygments_lexer": "ipython3",
   "version": "3.9.7"
  }
 },
 "nbformat": 4,
 "nbformat_minor": 5
}
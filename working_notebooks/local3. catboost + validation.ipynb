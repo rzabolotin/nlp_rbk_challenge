{
 "cells": [
  {
   "cell_type": "code",
   "execution_count": 17,
   "id": "d1071d48",
   "metadata": {
    "pycharm": {
     "name": "#%%\n"
    }
   },
   "outputs": [
    {
     "name": "stderr",
     "output_type": "stream",
     "text": [
      "[nltk_data] Downloading package stopwords to\n",
      "[nltk_data]     C:\\Users\\admin\\AppData\\Roaming\\nltk_data...\n",
      "[nltk_data]   Package stopwords is already up-to-date!\n"
     ]
    }
   ],
   "source": [
    "import pandas as pd\n",
    "import numpy as np\n",
    "import matplotlib.pyplot as plt\n",
    "import seaborn as sns\n",
    "import pickle\n",
    "\n",
    "from sklearn.feature_extraction.text import TfidfVectorizer\n",
    "from sklearn.preprocessing import OneHotEncoder\n",
    "from sklearn.base import BaseEstimator\n",
    "import nltk\n",
    "from nltk.corpus import stopwords\n",
    "from nltk.stem.snowball import SnowballStemmer\n",
    "from scipy.sparse import hstack\n",
    "\n",
    "from sklearn.ensemble import RandomForestRegressor\n",
    "from sklearn.metrics import r2_score, mean_squared_error\n",
    "from sklearn.model_selection import train_test_split, RandomizedSearchCV\n",
    "from sklearn.multioutput import MultiOutputRegressor\n",
    "from catboost import CatBoostRegressor, Pool\n",
    "\n",
    "\n",
    "pd.options.display.float_format = '{:,.2f}'.format\n",
    "sns.set_theme()\n",
    "nltk.download(\"stopwords\");\n",
    "\n",
    "RANDOM_STATE = 44"
   ]
  },
  {
   "cell_type": "code",
   "execution_count": 18,
   "id": "1eed2bb9",
   "metadata": {
    "pycharm": {
     "name": "#%%\n"
    }
   },
   "outputs": [],
   "source": [
    "train_df = pd.read_csv(\"data/train_dataset_train.csv\", index_col=0)\n",
    "test_df = pd.read_csv(\"data/test_dataset_test.csv\", index_col=0)\n",
    "\n",
    "train_df[\"is_train\"] = 1\n",
    "test_df[\"is_train\"] = 0\n",
    "\n",
    "df = pd.concat([train_df, test_df])"
   ]
  },
  {
   "cell_type": "code",
   "execution_count": 19,
   "id": "2ff008f8",
   "metadata": {
    "pycharm": {
     "name": "#%%\n"
    }
   },
   "outputs": [],
   "source": [
    "class RBKpreprocessor(BaseEstimator):\n",
    "    def __init__(self):\n",
    "        self._vectorizer_tags = TfidfVectorizer()\n",
    "        self._vectorizer_authors = TfidfVectorizer()\n",
    "        self._category_ohe = OneHotEncoder()\n",
    "        self._category_from_title_ohe = OneHotEncoder()\n",
    "        self._stop_words = stopwords.words(\"russian\")\n",
    "        self._stemmer = SnowballStemmer(\"russian\")\n",
    "        self._vectorizer_title = TfidfVectorizer()\n",
    "        \n",
    "        \n",
    "    def _clean_list(self, title):\n",
    "        return(title.\n",
    "           replace(\"[\", \"\").\n",
    "           replace(\"]\", \"\").\n",
    "           replace(\".\", \"\").\n",
    "           replace(\"'\", \"\").\n",
    "           replace(\",\", \" \")\n",
    "          )\n",
    "    \n",
    "    def _clean_title(self, title):\n",
    "        if title.find(\"\\n\")>0:\n",
    "            title = title[0:title.find(\"\\n\\n\")].lower()\n",
    "        title = \" \".join([self._stemmer.stem(w) for w in title.split() if w not in self._stop_words])\n",
    "        return title\n",
    "\n",
    "    def _find_category_in_title(self, title):\n",
    "        if title.find(\"\\n\")>0:\n",
    "            title = title[title.find(\"\\n\\n\"):].lower().strip()\n",
    "        else:\n",
    "            title = \"\"\n",
    "        if \",\" in title:\n",
    "            title = title[0:title.index(\",\")]\n",
    "        else:\n",
    "            title = \"\"\n",
    "\n",
    "        return title\n",
    "    \n",
    "    def fit(self, df):\n",
    "        self._category_ohe.fit(df.category.values.reshape(-1,1))\n",
    "        \n",
    "        authors_clean = df.authors.apply(self._clean_list)\n",
    "        tags_clean = df.tags.apply(self._clean_list)\n",
    "        self._vectorizer_tags.fit(tags_clean)\n",
    "        self._vectorizer_authors.fit(authors_clean);\n",
    "        \n",
    "        title_clean = df.title.apply(self._clean_title)\n",
    "        category_from_title =  df.title.apply(self._find_category_in_title)\n",
    "        self._category_from_title_ohe.fit(category_from_title.values.reshape(-1,1))\n",
    "        self._vectorizer_title.fit(title_clean)\n",
    "        \n",
    "        return(self)\n",
    "        \n",
    "        \n",
    "    def transform(self, df):\n",
    "        ctr_zero = (df.ctr == 0)\n",
    "        ctr_log = np.log(df.ctr)\n",
    "        mean_ctr_log = np.mean(ctr_log.values, where=(ctr_log != -np.inf))\n",
    "        ctr_log = np.where(df[\"ctr\"] == 0, mean_ctr_log, ctr_log)\n",
    "        \n",
    "        category_sparse = self._category_ohe.transform(df.category.values.reshape(-1,1))\n",
    "        \n",
    "        authors_clean = df.authors.apply(self._clean_list)\n",
    "        tags_clean = df.tags.apply(self._clean_list)\n",
    "        \n",
    "        authors_count = authors_clean.apply(lambda x: len(x.split()))\n",
    "        tags_count = tags_clean.apply(lambda x: len(x.split()))\n",
    "        \n",
    "        tags_sparse = self._vectorizer_tags.transform(tags_clean)\n",
    "        authors_sparse = self._vectorizer_authors.transform(authors_clean)\n",
    "        \n",
    "        publish_date = pd.to_datetime(df.publish_date)\n",
    "        publish_year = publish_date.dt.year * 100 + publish_date.dt.month\n",
    "        publish_day = publish_date.dt.day\n",
    "        publish_weekday = publish_date.dt.weekday\n",
    "        publish_hour = publish_date.dt.hour\n",
    "        \n",
    "        title_clean = df.title.apply(self._clean_title)\n",
    "        title_sparse  = self._vectorizer_title.transform(title_clean)\n",
    "        \n",
    "        category_from_title =  df.title.apply(self._find_category_in_title)\n",
    "        category_from_title_sparse = self._category_from_title_ohe.transform(category_from_title.values.reshape(-1,1))\n",
    "        \n",
    "        return hstack([\n",
    "            ctr_zero.values[:,None],\n",
    "            ctr_log[:,None],\n",
    "            category_sparse,\n",
    "            authors_count.values[:,None],\n",
    "            tags_count.values[:,None],\n",
    "            tags_sparse,\n",
    "            authors_sparse,\n",
    "            publish_year.values[:,None],\n",
    "            publish_day.values[:,None],\n",
    "            publish_weekday.values[:,None],\n",
    "            publish_hour.values[:,None],\n",
    "            title_sparse,\n",
    "            category_from_title_sparse\n",
    "        ])\n",
    "        \n",
    "def my_metric(y_real, preds, detail=True):\n",
    "    overall = (\n",
    "            0.4*r2_score(y_real.iloc[:,0], preds[:,0]) + \n",
    "            0.3*r2_score(y_real.iloc[:,1], preds[:,1]) + \n",
    "            0.3*r2_score(y_real.iloc[:,2], preds[:,2])\n",
    "        )\n",
    "    \n",
    "    if not detail:\n",
    "        return overall\n",
    "    else:\n",
    "        return (\n",
    "            overall,\n",
    "            0.4*r2_score(y_real.iloc[:,0], preds[:,0]), \n",
    "            0.3*r2_score(y_real.iloc[:,1], preds[:,1]), \n",
    "            0.3*r2_score(y_real.iloc[:,2], preds[:,2])\n",
    "        )\n",
    "    \n",
    "def write_down_predictions(preds, output_file = \"output.csv\"):\n",
    "    solution = pd.read_csv(\"data\\sample_solution.csv\")\n",
    "    solution.iloc[:,1:4] = preds\n",
    "    solution.to_csv(output_file, index=False)"
   ]
  },
  {
   "cell_type": "code",
   "execution_count": 20,
   "id": "7a17f979",
   "metadata": {
    "pycharm": {
     "name": "#%%\n"
    }
   },
   "outputs": [
    {
     "name": "stdout",
     "output_type": "stream",
     "text": [
      "Wall time: 3.98 s\n"
     ]
    },
    {
     "data": {
      "text/plain": [
       "RBKpreprocessor()"
      ]
     },
     "execution_count": 20,
     "metadata": {},
     "output_type": "execute_result"
    }
   ],
   "source": [
    "%%time\n",
    "preprocess = RBKpreprocessor()\n",
    "preprocess.fit(df)"
   ]
  },
  {
   "cell_type": "markdown",
   "id": "98cf403f",
   "metadata": {
    "pycharm": {
     "name": "#%% md\n"
    }
   },
   "source": [
    "## Немного поанализируем текст"
   ]
  },
  {
   "cell_type": "code",
   "execution_count": 21,
   "id": "36a86828",
   "metadata": {
    "pycharm": {
     "name": "#%%\n"
    }
   },
   "outputs": [],
   "source": [
    "_stop_words = stopwords.words(\"russian\")\n",
    "_stemmer = SnowballStemmer(\"russian\")\n",
    "        \n",
    "def _clean_title(title):\n",
    "    if title.find(\"\\n\")>0:\n",
    "        title = title[0:title.find(\"\\n\\n\")].lower()\n",
    "    title = \" \".join([_stemmer.stem(w) for w in title.split() if w not in _stop_words])\n",
    "    return title"
   ]
  },
  {
   "cell_type": "code",
   "execution_count": 22,
   "id": "6db5c7a7",
   "metadata": {
    "pycharm": {
     "name": "#%%\n"
    }
   },
   "outputs": [],
   "source": [
    "titles = df.title.apply(_clean_title)"
   ]
  },
  {
   "cell_type": "code",
   "execution_count": 23,
   "id": "1c563f7b",
   "metadata": {
    "pycharm": {
     "name": "#%%\n"
    }
   },
   "outputs": [
    {
     "data": {
      "text/plain": [
       "count   10,000.00\n",
       "mean        49.98\n",
       "std          9.67\n",
       "min         10.00\n",
       "25%         45.00\n",
       "50%         51.00\n",
       "75%         55.00\n",
       "max        135.00\n",
       "Name: title, dtype: float64"
      ]
     },
     "execution_count": 23,
     "metadata": {},
     "output_type": "execute_result"
    }
   ],
   "source": [
    "titles.apply(len).describe()"
   ]
  },
  {
   "cell_type": "markdown",
   "id": "e9f44f81",
   "metadata": {
    "pycharm": {
     "name": "#%% md\n"
    }
   },
   "source": [
    "## Локальная валидация"
   ]
  },
  {
   "cell_type": "code",
   "execution_count": 26,
   "id": "a35d22ea",
   "metadata": {
    "pycharm": {
     "name": "#%%\n"
    }
   },
   "outputs": [],
   "source": [
    "valid_train_df, valid_test_df = train_test_split(train_df, test_size=0.2, random_state=RANDOM_STATE, shuffle=True)"
   ]
  },
  {
   "cell_type": "code",
   "execution_count": 27,
   "id": "ae70ec8a",
   "metadata": {
    "pycharm": {
     "name": "#%%\n"
    }
   },
   "outputs": [
    {
     "name": "stderr",
     "output_type": "stream",
     "text": [
      "C:\\Soft\\Anaconda\\lib\\site-packages\\pandas\\core\\arraylike.py:364: RuntimeWarning: divide by zero encountered in log\n",
      "  result = getattr(ufunc, method)(*inputs, **kwargs)\n",
      "C:\\Soft\\Anaconda\\lib\\site-packages\\pandas\\core\\arraylike.py:364: RuntimeWarning: divide by zero encountered in log\n",
      "  result = getattr(ufunc, method)(*inputs, **kwargs)\n"
     ]
    },
    {
     "name": "stdout",
     "output_type": "stream",
     "text": [
      "Wall time: 2.77 s\n"
     ]
    }
   ],
   "source": [
    "%%time\n",
    "X_train = preprocess.transform(valid_train_df)\n",
    "y_train = valid_train_df[[\"views\", \"depth\", \"full_reads_percent\"]]\n",
    "\n",
    "X_test = preprocess.transform(valid_test_df)\n",
    "y_test = valid_test_df[[\"views\", \"depth\", \"full_reads_percent\"]]\n",
    "\n"
   ]
  },
  {
   "cell_type": "markdown",
   "id": "9f8c07d4",
   "metadata": {
    "pycharm": {
     "name": "#%% md\n"
    }
   },
   "source": [
    "## CatboostRegressor"
   ]
  },
  {
   "cell_type": "code",
   "execution_count": 19,
   "id": "bb00f3a1",
   "metadata": {
    "pycharm": {
     "name": "#%%\n"
    }
   },
   "outputs": [],
   "source": [
    "model = CatBoostRegressor(iterations=20,\n",
    "                          early_stopping_rounds=3,\n",
    "                          random_seed=RANDOM_STATE,\n",
    "                          depth=10, \n",
    "                          loss_function='MultiRMSE',\n",
    "                          verbose=True)"
   ]
  },
  {
   "cell_type": "code",
   "execution_count": 20,
   "id": "b588b8f7",
   "metadata": {
    "pycharm": {
     "name": "#%%\n"
    }
   },
   "outputs": [
    {
     "name": "stderr",
     "output_type": "stream",
     "text": [
      "Custom logger is already specified. Specify more than one logger at same time is not thread safe.Got unsafe target value = 2.5542e+06 at object #334 of dataset learn\n",
      "Got unsafe target value = 2.5542e+06 at object #164 of dataset test #0\n"
     ]
    },
    {
     "name": "stdout",
     "output_type": "stream",
     "text": [
      "0:\tlearn: 85530.7791244\ttest: 125539.0041544\tbest: 125539.0041544 (0)\ttotal: 1.79s\tremaining: 33.9s\n",
      "1:\tlearn: 85024.6884090\ttest: 125272.6614669\tbest: 125272.6614669 (1)\ttotal: 7.08s\tremaining: 1m 3s\n",
      "2:\tlearn: 84356.0603643\ttest: 125010.3365896\tbest: 125010.3365896 (2)\ttotal: 12.4s\tremaining: 1m 10s\n",
      "3:\tlearn: 84014.8571342\ttest: 124872.1330171\tbest: 124872.1330171 (3)\ttotal: 17s\tremaining: 1m 7s\n",
      "4:\tlearn: 83358.3165231\ttest: 124596.8324311\tbest: 124596.8324311 (4)\ttotal: 21.6s\tremaining: 1m 4s\n",
      "5:\tlearn: 82504.1805773\ttest: 124291.3635973\tbest: 124291.3635973 (5)\ttotal: 26s\tremaining: 1m\n",
      "6:\tlearn: 81882.9984517\ttest: 124203.0536857\tbest: 124203.0536857 (6)\ttotal: 30.9s\tremaining: 57.4s\n",
      "7:\tlearn: 81132.5591418\ttest: 123852.8156653\tbest: 123852.8156653 (7)\ttotal: 35.1s\tremaining: 52.7s\n",
      "8:\tlearn: 80584.3516082\ttest: 123219.5671855\tbest: 123219.5671855 (8)\ttotal: 39.4s\tremaining: 48.1s\n",
      "9:\tlearn: 80403.7560937\ttest: 122968.7477808\tbest: 122968.7477808 (9)\ttotal: 43.5s\tremaining: 43.5s\n",
      "10:\tlearn: 79532.1174841\ttest: 122477.7770723\tbest: 122477.7770723 (10)\ttotal: 48s\tremaining: 39.3s\n",
      "11:\tlearn: 78662.3792395\ttest: 122104.9082899\tbest: 122104.9082899 (11)\ttotal: 52.6s\tremaining: 35.1s\n",
      "12:\tlearn: 78170.0335900\ttest: 122097.9908415\tbest: 122097.9908415 (12)\ttotal: 56.9s\tremaining: 30.6s\n",
      "13:\tlearn: 77595.1304508\ttest: 121853.5800133\tbest: 121853.5800133 (13)\ttotal: 1m 1s\tremaining: 26.3s\n",
      "14:\tlearn: 77345.4589499\ttest: 121610.7133868\tbest: 121610.7133868 (14)\ttotal: 1m 5s\tremaining: 21.8s\n",
      "15:\tlearn: 77175.9817182\ttest: 121372.3334022\tbest: 121372.3334022 (15)\ttotal: 1m 9s\tremaining: 17.4s\n",
      "16:\tlearn: 76435.1726829\ttest: 121086.3558703\tbest: 121086.3558703 (16)\ttotal: 1m 13s\tremaining: 13s\n",
      "17:\tlearn: 75833.1601259\ttest: 120821.9457935\tbest: 120821.9457935 (17)\ttotal: 1m 19s\tremaining: 8.79s\n",
      "18:\tlearn: 75044.7840276\ttest: 120535.6098721\tbest: 120535.6098721 (18)\ttotal: 1m 23s\tremaining: 4.39s\n",
      "19:\tlearn: 74442.1194218\ttest: 120362.9641948\tbest: 120362.9641948 (19)\ttotal: 1m 28s\tremaining: 0us\n",
      "\n",
      "bestTest = 120362.9642\n",
      "bestIteration = 19\n",
      "\n",
      "Wall time: 1min 28s\n"
     ]
    },
    {
     "data": {
      "text/plain": [
       "<catboost.core.CatBoostRegressor at 0x239824b1f40>"
      ]
     },
     "execution_count": 20,
     "metadata": {},
     "output_type": "execute_result"
    }
   ],
   "source": [
    "%%time\n",
    "model.fit(X_train, y_train, eval_set=Pool(data=X_test, label=y_test))"
   ]
  },
  {
   "cell_type": "code",
   "execution_count": 21,
   "id": "0ffaf242",
   "metadata": {
    "pycharm": {
     "name": "#%%\n"
    }
   },
   "outputs": [
    {
     "data": {
      "text/plain": [
       "(0.08884265310537756,\n",
       " 0.033680461713825154,\n",
       " 0.046408845992440474,\n",
       " 0.008753345399111934)"
      ]
     },
     "execution_count": 21,
     "metadata": {},
     "output_type": "execute_result"
    }
   ],
   "source": [
    "preds = model.predict(X_test)\n",
    "my_metric(y_test, preds)"
   ]
  },
  {
   "cell_type": "code",
   "execution_count": 22,
   "id": "56f89466",
   "metadata": {
    "pycharm": {
     "name": "#%%\n"
    }
   },
   "outputs": [],
   "source": [
    "model = CatBoostRegressor(iterations=50,\n",
    "                          early_stopping_rounds=3,\n",
    "                          random_seed=RANDOM_STATE,\n",
    "                          depth=10, \n",
    "                          loss_function='MultiRMSE')"
   ]
  },
  {
   "cell_type": "code",
   "execution_count": 23,
   "id": "56e65b23",
   "metadata": {
    "pycharm": {
     "name": "#%%\n"
    }
   },
   "outputs": [
    {
     "name": "stderr",
     "output_type": "stream",
     "text": [
      "Got unsafe target value = 2.5542e+06 at object #334 of dataset learn\n",
      "Got unsafe target value = 2.5542e+06 at object #164 of dataset test #0\n"
     ]
    },
    {
     "name": "stdout",
     "output_type": "stream",
     "text": [
      "0:\tlearn: 85530.7791244\ttest: 125539.0041544\tbest: 125539.0041544 (0)\ttotal: 1.09s\tremaining: 53.3s\n",
      "1:\tlearn: 85024.6884090\ttest: 125272.6614669\tbest: 125272.6614669 (1)\ttotal: 2.31s\tremaining: 55.3s\n",
      "2:\tlearn: 84356.0603643\ttest: 125010.3365896\tbest: 125010.3365896 (2)\ttotal: 7.32s\tremaining: 1m 54s\n",
      "3:\tlearn: 84014.8571342\ttest: 124872.1330171\tbest: 124872.1330171 (3)\ttotal: 13.5s\tremaining: 2m 35s\n",
      "4:\tlearn: 83358.3165231\ttest: 124596.8324311\tbest: 124596.8324311 (4)\ttotal: 18.3s\tremaining: 2m 44s\n",
      "5:\tlearn: 82504.1805773\ttest: 124291.3635973\tbest: 124291.3635973 (5)\ttotal: 22.7s\tremaining: 2m 46s\n",
      "6:\tlearn: 81882.9984517\ttest: 124203.0536857\tbest: 124203.0536857 (6)\ttotal: 26.8s\tremaining: 2m 44s\n",
      "7:\tlearn: 81132.5591418\ttest: 123852.8156653\tbest: 123852.8156653 (7)\ttotal: 31.6s\tremaining: 2m 45s\n",
      "8:\tlearn: 80584.3516082\ttest: 123219.5671855\tbest: 123219.5671855 (8)\ttotal: 35.8s\tremaining: 2m 43s\n",
      "9:\tlearn: 80403.7560937\ttest: 122968.7477808\tbest: 122968.7477808 (9)\ttotal: 40.2s\tremaining: 2m 40s\n",
      "10:\tlearn: 79532.1174841\ttest: 122477.7770723\tbest: 122477.7770723 (10)\ttotal: 45.2s\tremaining: 2m 40s\n",
      "11:\tlearn: 78662.3792395\ttest: 122104.9082899\tbest: 122104.9082899 (11)\ttotal: 49.8s\tremaining: 2m 37s\n",
      "12:\tlearn: 78170.0335900\ttest: 122097.9908415\tbest: 122097.9908415 (12)\ttotal: 54.1s\tremaining: 2m 33s\n",
      "13:\tlearn: 77595.1304508\ttest: 121853.5800133\tbest: 121853.5800133 (13)\ttotal: 58.5s\tremaining: 2m 30s\n",
      "14:\tlearn: 77345.4589499\ttest: 121610.7133868\tbest: 121610.7133868 (14)\ttotal: 1m 3s\tremaining: 2m 27s\n",
      "15:\tlearn: 77175.9817182\ttest: 121372.3334022\tbest: 121372.3334022 (15)\ttotal: 1m 7s\tremaining: 2m 23s\n",
      "16:\tlearn: 76435.1726829\ttest: 121086.3558703\tbest: 121086.3558703 (16)\ttotal: 1m 12s\tremaining: 2m 20s\n",
      "17:\tlearn: 75833.1601259\ttest: 120821.9457935\tbest: 120821.9457935 (17)\ttotal: 1m 17s\tremaining: 2m 17s\n",
      "18:\tlearn: 75044.7840276\ttest: 120535.6098721\tbest: 120535.6098721 (18)\ttotal: 1m 21s\tremaining: 2m 13s\n",
      "19:\tlearn: 74442.1194218\ttest: 120362.9641948\tbest: 120362.9641948 (19)\ttotal: 1m 26s\tremaining: 2m 9s\n",
      "20:\tlearn: 74226.4431967\ttest: 120127.4714946\tbest: 120127.4714946 (20)\ttotal: 1m 31s\tremaining: 2m 6s\n",
      "21:\tlearn: 73483.8794360\ttest: 119843.2907952\tbest: 119843.2907952 (21)\ttotal: 1m 36s\tremaining: 2m 2s\n",
      "22:\tlearn: 73411.4763659\ttest: 119844.1553755\tbest: 119843.2907952 (21)\ttotal: 1m 41s\tremaining: 1m 59s\n",
      "23:\tlearn: 72958.4852414\ttest: 119614.6421245\tbest: 119614.6421245 (23)\ttotal: 1m 46s\tremaining: 1m 55s\n",
      "24:\tlearn: 72784.8654500\ttest: 119387.1190518\tbest: 119387.1190518 (24)\ttotal: 1m 51s\tremaining: 1m 51s\n",
      "25:\tlearn: 72345.3219768\ttest: 119375.4498444\tbest: 119375.4498444 (25)\ttotal: 1m 56s\tremaining: 1m 47s\n",
      "26:\tlearn: 71815.4832393\ttest: 119140.7123782\tbest: 119140.7123782 (26)\ttotal: 2m 2s\tremaining: 1m 44s\n",
      "27:\tlearn: 71046.6380675\ttest: 118696.3345841\tbest: 118696.3345841 (27)\ttotal: 2m 8s\tremaining: 1m 41s\n",
      "28:\tlearn: 70679.8120286\ttest: 118699.1470435\tbest: 118696.3345841 (27)\ttotal: 2m 15s\tremaining: 1m 38s\n",
      "29:\tlearn: 70507.6469652\ttest: 118483.3559923\tbest: 118483.3559923 (29)\ttotal: 2m 24s\tremaining: 1m 36s\n",
      "30:\tlearn: 70130.5884362\ttest: 118484.2294836\tbest: 118483.3559923 (29)\ttotal: 2m 29s\tremaining: 1m 31s\n",
      "31:\tlearn: 69514.4372411\ttest: 118194.7047733\tbest: 118194.7047733 (31)\ttotal: 2m 34s\tremaining: 1m 26s\n",
      "32:\tlearn: 69160.8488359\ttest: 117984.1170103\tbest: 117984.1170103 (32)\ttotal: 2m 38s\tremaining: 1m 21s\n",
      "33:\tlearn: 68501.1419732\ttest: 117603.6645592\tbest: 117603.6645592 (33)\ttotal: 2m 43s\tremaining: 1m 16s\n",
      "34:\tlearn: 68383.2303372\ttest: 117603.7357878\tbest: 117603.6645592 (33)\ttotal: 2m 47s\tremaining: 1m 11s\n",
      "35:\tlearn: 68182.1700143\ttest: 117396.3228247\tbest: 117396.3228247 (35)\ttotal: 2m 52s\tremaining: 1m 7s\n",
      "36:\tlearn: 67696.2734859\ttest: 117094.6228930\tbest: 117094.6228930 (36)\ttotal: 2m 57s\tremaining: 1m 2s\n",
      "37:\tlearn: 67284.2112919\ttest: 117074.4039247\tbest: 117074.4039247 (37)\ttotal: 3m 2s\tremaining: 57.7s\n",
      "38:\tlearn: 66613.1355391\ttest: 116642.3926108\tbest: 116642.3926108 (38)\ttotal: 3m 7s\tremaining: 53s\n",
      "39:\tlearn: 66265.1094647\ttest: 116537.5716902\tbest: 116537.5716902 (39)\ttotal: 3m 12s\tremaining: 48.1s\n",
      "40:\tlearn: 65847.4061842\ttest: 116330.8602497\tbest: 116330.8602497 (40)\ttotal: 3m 17s\tremaining: 43.4s\n",
      "41:\tlearn: 65778.5197838\ttest: 116331.4383049\tbest: 116330.8602497 (40)\ttotal: 3m 22s\tremaining: 38.6s\n",
      "42:\tlearn: 65380.9487636\ttest: 116127.2049817\tbest: 116127.2049817 (42)\ttotal: 3m 27s\tremaining: 33.7s\n",
      "43:\tlearn: 64978.3069864\ttest: 115919.0882123\tbest: 115919.0882123 (43)\ttotal: 3m 31s\tremaining: 28.9s\n",
      "44:\tlearn: 64860.6279824\ttest: 115904.7527355\tbest: 115904.7527355 (44)\ttotal: 3m 36s\tremaining: 24.1s\n",
      "45:\tlearn: 64666.1212266\ttest: 115707.4665457\tbest: 115707.4665457 (45)\ttotal: 3m 41s\tremaining: 19.3s\n",
      "46:\tlearn: 64348.8563842\ttest: 115672.0542711\tbest: 115672.0542711 (46)\ttotal: 3m 46s\tremaining: 14.5s\n",
      "47:\tlearn: 63747.6374754\ttest: 115367.8109932\tbest: 115367.8109932 (47)\ttotal: 3m 51s\tremaining: 9.65s\n",
      "48:\tlearn: 63172.1154453\ttest: 115084.7466050\tbest: 115084.7466050 (48)\ttotal: 3m 56s\tremaining: 4.82s\n",
      "49:\tlearn: 62800.9293782\ttest: 114882.9399692\tbest: 114882.9399692 (49)\ttotal: 4m\tremaining: 0us\n",
      "\n",
      "bestTest = 114882.94\n",
      "bestIteration = 49\n",
      "\n",
      "Wall time: 4min 1s\n"
     ]
    },
    {
     "data": {
      "text/plain": [
       "(0.17971151254219747,\n",
       " 0.06627755569599025,\n",
       " 0.09320289876036893,\n",
       " 0.020231058085838315)"
      ]
     },
     "execution_count": 23,
     "metadata": {},
     "output_type": "execute_result"
    }
   ],
   "source": [
    "%%time\n",
    "model.fit(X_train, y_train, eval_set=Pool(data=X_test, label=y_test))\n",
    "preds = model.predict(X_test)\n",
    "my_metric(y_test, preds)"
   ]
  },
  {
   "cell_type": "markdown",
   "id": "36dbeff8",
   "metadata": {
    "pycharm": {
     "name": "#%% md\n"
    }
   },
   "source": [
    "## А если сделать по одному бустинку на каждый выход, и метрику r2 оптимизировать"
   ]
  },
  {
   "cell_type": "code",
   "execution_count": 35,
   "id": "abc0828e",
   "metadata": {
    "pycharm": {
     "name": "#%%\n"
    }
   },
   "outputs": [],
   "source": [
    "model1 = CatBoostRegressor(iterations=20,\n",
    "                          early_stopping_rounds=3,\n",
    "                          random_seed=RANDOM_STATE,\n",
    "                          depth=10, \n",
    "                          eval_metric=\"R2\",\n",
    "                          loss_function=\"RMSE\")\n",
    "model2 = model1.copy()\n",
    "model3 = model1.copy()"
   ]
  },
  {
   "cell_type": "code",
   "execution_count": 36,
   "id": "39785560",
   "metadata": {
    "pycharm": {
     "name": "#%%\n"
    }
   },
   "outputs": [
    {
     "name": "stdout",
     "output_type": "stream",
     "text": [
      "Learning rate set to 0.5\n",
      "0:\tlearn: 0.1457455\ttest: 0.0690903\tbest: 0.0690903 (0)\ttotal: 450ms\tremaining: 8.55s\n",
      "1:\tlearn: 0.3192358\ttest: 0.1102355\tbest: 0.1102355 (1)\ttotal: 867ms\tremaining: 7.8s\n",
      "2:\tlearn: 0.5451028\ttest: 0.2205832\tbest: 0.2205832 (2)\ttotal: 1.28s\tremaining: 7.27s\n",
      "3:\tlearn: 0.6191707\ttest: 0.2545967\tbest: 0.2545967 (3)\ttotal: 1.68s\tremaining: 6.71s\n",
      "4:\tlearn: 0.7028892\ttest: 0.3093535\tbest: 0.3093535 (4)\ttotal: 2.1s\tremaining: 6.31s\n",
      "5:\tlearn: 0.7255360\ttest: 0.3272761\tbest: 0.3272761 (5)\ttotal: 2.58s\tremaining: 6.01s\n",
      "6:\tlearn: 0.7407832\ttest: 0.3408906\tbest: 0.3408906 (6)\ttotal: 3.44s\tremaining: 6.4s\n",
      "7:\tlearn: 0.7551583\ttest: 0.3519802\tbest: 0.3519802 (7)\ttotal: 5.25s\tremaining: 7.87s\n",
      "8:\tlearn: 0.7656924\ttest: 0.3593509\tbest: 0.3593509 (8)\ttotal: 7.54s\tremaining: 9.22s\n",
      "9:\tlearn: 0.7752481\ttest: 0.3665365\tbest: 0.3665365 (9)\ttotal: 9.5s\tremaining: 9.5s\n",
      "10:\tlearn: 0.8156690\ttest: 0.4046898\tbest: 0.4046898 (10)\ttotal: 11.7s\tremaining: 9.57s\n",
      "11:\tlearn: 0.8353679\ttest: 0.4175257\tbest: 0.4175257 (11)\ttotal: 13.3s\tremaining: 8.84s\n",
      "12:\tlearn: 0.8408432\ttest: 0.4200812\tbest: 0.4200812 (12)\ttotal: 15.1s\tremaining: 8.13s\n",
      "13:\tlearn: 0.8459882\ttest: 0.4225306\tbest: 0.4225306 (13)\ttotal: 16.8s\tremaining: 7.19s\n",
      "14:\tlearn: 0.8570448\ttest: 0.4397554\tbest: 0.4397554 (14)\ttotal: 18.7s\tremaining: 6.23s\n",
      "15:\tlearn: 0.8618635\ttest: 0.4414426\tbest: 0.4414426 (15)\ttotal: 20.3s\tremaining: 5.06s\n",
      "16:\tlearn: 0.8653683\ttest: 0.4425502\tbest: 0.4425502 (16)\ttotal: 22s\tremaining: 3.89s\n",
      "17:\tlearn: 0.8719784\ttest: 0.4441898\tbest: 0.4441898 (17)\ttotal: 23.9s\tremaining: 2.65s\n",
      "18:\tlearn: 0.8749353\ttest: 0.4493995\tbest: 0.4493995 (18)\ttotal: 25.3s\tremaining: 1.33s\n",
      "19:\tlearn: 0.8780119\ttest: 0.4495279\tbest: 0.4495279 (19)\ttotal: 27.3s\tremaining: 0us\n",
      "\n",
      "bestTest = 0.4495279138\n",
      "bestIteration = 19\n",
      "\n",
      "Wall time: 28.1 s\n"
     ]
    },
    {
     "data": {
      "text/plain": [
       "<catboost.core.CatBoostRegressor at 0x23982105a00>"
      ]
     },
     "execution_count": 36,
     "metadata": {},
     "output_type": "execute_result"
    }
   ],
   "source": [
    "%%time\n",
    "model1.fit(X_train, y_train.iloc[:,0], eval_set=Pool(data=X_test, label=y_test.iloc[:,0]))"
   ]
  },
  {
   "cell_type": "code",
   "execution_count": 37,
   "id": "4e62a386",
   "metadata": {
    "pycharm": {
     "name": "#%%\n"
    }
   },
   "outputs": [
    {
     "name": "stdout",
     "output_type": "stream",
     "text": [
      "Learning rate set to 0.5\n",
      "0:\tlearn: 0.4617745\ttest: 0.4599649\tbest: 0.4599649 (0)\ttotal: 803ms\tremaining: 15.3s\n",
      "1:\tlearn: 0.6096927\ttest: 0.5611509\tbest: 0.5611509 (1)\ttotal: 2.1s\tremaining: 18.9s\n",
      "2:\tlearn: 0.6751672\ttest: 0.6270159\tbest: 0.6270159 (2)\ttotal: 3.53s\tremaining: 20s\n",
      "3:\tlearn: 0.7353214\ttest: 0.7108072\tbest: 0.7108072 (3)\ttotal: 5.01s\tremaining: 20s\n",
      "4:\tlearn: 0.7431803\ttest: 0.7170892\tbest: 0.7170892 (4)\ttotal: 6.92s\tremaining: 20.8s\n",
      "5:\tlearn: 0.7481745\ttest: 0.7170847\tbest: 0.7170892 (4)\ttotal: 8.34s\tremaining: 19.5s\n",
      "6:\tlearn: 0.7532388\ttest: 0.7217736\tbest: 0.7217736 (6)\ttotal: 9.8s\tremaining: 18.2s\n",
      "7:\tlearn: 0.7761962\ttest: 0.7355344\tbest: 0.7355344 (7)\ttotal: 11.3s\tremaining: 17s\n",
      "8:\tlearn: 0.7800880\ttest: 0.7388071\tbest: 0.7388071 (8)\ttotal: 12.7s\tremaining: 15.5s\n",
      "9:\tlearn: 0.7897370\ttest: 0.7443755\tbest: 0.7443755 (9)\ttotal: 14.4s\tremaining: 14.4s\n",
      "10:\tlearn: 0.7932726\ttest: 0.7466024\tbest: 0.7466024 (10)\ttotal: 15.7s\tremaining: 12.9s\n",
      "11:\tlearn: 0.7969714\ttest: 0.7475232\tbest: 0.7475232 (11)\ttotal: 17.3s\tremaining: 11.6s\n",
      "12:\tlearn: 0.8004253\ttest: 0.7490261\tbest: 0.7490261 (12)\ttotal: 18.7s\tremaining: 10.1s\n",
      "13:\tlearn: 0.8095824\ttest: 0.7512640\tbest: 0.7512640 (13)\ttotal: 20.1s\tremaining: 8.63s\n",
      "14:\tlearn: 0.8131215\ttest: 0.7517373\tbest: 0.7517373 (14)\ttotal: 21.7s\tremaining: 7.24s\n",
      "15:\tlearn: 0.8275974\ttest: 0.7567966\tbest: 0.7567966 (15)\ttotal: 23s\tremaining: 5.75s\n",
      "16:\tlearn: 0.8301982\ttest: 0.7567955\tbest: 0.7567966 (15)\ttotal: 24.7s\tremaining: 4.35s\n",
      "17:\tlearn: 0.8319507\ttest: 0.7566785\tbest: 0.7567966 (15)\ttotal: 26.4s\tremaining: 2.94s\n",
      "18:\tlearn: 0.8345559\ttest: 0.7574209\tbest: 0.7574209 (18)\ttotal: 28.1s\tremaining: 1.48s\n",
      "19:\tlearn: 0.8424148\ttest: 0.7617717\tbest: 0.7617717 (19)\ttotal: 29.8s\tremaining: 0us\n",
      "\n",
      "bestTest = 0.7617716883\n",
      "bestIteration = 19\n",
      "\n",
      "Wall time: 30.7 s\n"
     ]
    },
    {
     "data": {
      "text/plain": [
       "<catboost.core.CatBoostRegressor at 0x239821059a0>"
      ]
     },
     "execution_count": 37,
     "metadata": {},
     "output_type": "execute_result"
    }
   ],
   "source": [
    "%%time\n",
    "model2.fit(X_train, y_train.iloc[:,1], eval_set=Pool(data=X_test, label=y_test.iloc[:,1]))"
   ]
  },
  {
   "cell_type": "code",
   "execution_count": 38,
   "id": "40e4c913",
   "metadata": {
    "pycharm": {
     "name": "#%%\n"
    }
   },
   "outputs": [
    {
     "name": "stdout",
     "output_type": "stream",
     "text": [
      "Learning rate set to 0.5\n",
      "0:\tlearn: 0.1899170\ttest: 0.1629200\tbest: 0.1629200 (0)\ttotal: 1.81s\tremaining: 34.5s\n",
      "1:\tlearn: 0.2140387\ttest: 0.1630573\tbest: 0.1630573 (1)\ttotal: 3.64s\tremaining: 32.8s\n",
      "2:\tlearn: 0.2328228\ttest: 0.1627615\tbest: 0.1630573 (1)\ttotal: 5.54s\tremaining: 31.4s\n",
      "3:\tlearn: 0.3018429\ttest: 0.2168630\tbest: 0.2168630 (3)\ttotal: 6.94s\tremaining: 27.7s\n",
      "4:\tlearn: 0.3139694\ttest: 0.2140174\tbest: 0.2168630 (3)\ttotal: 8.49s\tremaining: 25.5s\n",
      "5:\tlearn: 0.3501655\ttest: 0.2402478\tbest: 0.2402478 (5)\ttotal: 9.99s\tremaining: 23.3s\n",
      "6:\tlearn: 0.3574774\ttest: 0.2404505\tbest: 0.2404505 (6)\ttotal: 11.6s\tremaining: 21.5s\n",
      "7:\tlearn: 0.3630384\ttest: 0.2403459\tbest: 0.2404505 (6)\ttotal: 13.1s\tremaining: 19.7s\n",
      "8:\tlearn: 0.3931606\ttest: 0.2643137\tbest: 0.2643137 (8)\ttotal: 14.5s\tremaining: 17.8s\n",
      "9:\tlearn: 0.3969076\ttest: 0.2588657\tbest: 0.2643137 (8)\ttotal: 16.1s\tremaining: 16.1s\n",
      "10:\tlearn: 0.4003125\ttest: 0.2523575\tbest: 0.2643137 (8)\ttotal: 17.6s\tremaining: 14.4s\n",
      "11:\tlearn: 0.4278480\ttest: 0.2760673\tbest: 0.2760673 (11)\ttotal: 19.2s\tremaining: 12.8s\n",
      "12:\tlearn: 0.4433823\ttest: 0.2861676\tbest: 0.2861676 (12)\ttotal: 20.7s\tremaining: 11.1s\n",
      "13:\tlearn: 0.4457002\ttest: 0.2860573\tbest: 0.2861676 (12)\ttotal: 22.2s\tremaining: 9.51s\n",
      "14:\tlearn: 0.4609603\ttest: 0.2932672\tbest: 0.2932672 (14)\ttotal: 23.7s\tremaining: 7.89s\n",
      "15:\tlearn: 0.4722685\ttest: 0.3040280\tbest: 0.3040280 (15)\ttotal: 25.3s\tremaining: 6.33s\n",
      "16:\tlearn: 0.4751101\ttest: 0.2985503\tbest: 0.3040280 (15)\ttotal: 27s\tremaining: 4.76s\n",
      "17:\tlearn: 0.4766741\ttest: 0.2982791\tbest: 0.3040280 (15)\ttotal: 28.7s\tremaining: 3.19s\n",
      "18:\tlearn: 0.4873320\ttest: 0.3043608\tbest: 0.3043608 (18)\ttotal: 30.4s\tremaining: 1.6s\n",
      "19:\tlearn: 0.4896956\ttest: 0.3057650\tbest: 0.3057650 (19)\ttotal: 31.9s\tremaining: 0us\n",
      "\n",
      "bestTest = 0.3057650274\n",
      "bestIteration = 19\n",
      "\n",
      "Wall time: 33.9 s\n"
     ]
    },
    {
     "data": {
      "text/plain": [
       "<catboost.core.CatBoostRegressor at 0x23982105d60>"
      ]
     },
     "execution_count": 38,
     "metadata": {},
     "output_type": "execute_result"
    }
   ],
   "source": [
    "%%time\n",
    "model3.fit(X_train, y_train.iloc[:,2], eval_set=Pool(data=X_test, label=y_test.iloc[:,2]))"
   ]
  },
  {
   "cell_type": "code",
   "execution_count": 42,
   "id": "f1494ea2",
   "metadata": {
    "pycharm": {
     "name": "#%%\n"
    }
   },
   "outputs": [
    {
     "data": {
      "text/plain": [
       "(0.5000721823769023,\n",
       " 0.17981116553200197,\n",
       " 0.2285315081366026,\n",
       " 0.09172950870829773)"
      ]
     },
     "execution_count": 42,
     "metadata": {},
     "output_type": "execute_result"
    }
   ],
   "source": [
    "preds = np.c_[\n",
    "    model1.predict(X_test),\n",
    "    model2.predict(X_test),\n",
    "    model3.predict(X_test)\n",
    "]\n",
    "my_metric(y_test, preds)"
   ]
  },
  {
   "cell_type": "markdown",
   "id": "6feeb74f",
   "metadata": {
    "pycharm": {
     "name": "#%% md\n"
    }
   },
   "source": [
    "## Выводы\n",
    "Ну кажется, что оптимизация каждого параметра по отдельности более перспективна, чем считать одну модель на 3 предсказания"
   ]
  },
  {
   "cell_type": "markdown",
   "id": "8323698f",
   "metadata": {
    "pycharm": {
     "name": "#%% md\n"
    }
   },
   "source": [
    "> Попробуем сделать обучение модели на этих параметрах, но на 2000 итерациях каждую (В разных ноутбуках)\n",
    "> А потом можно будет  подобрать оптимальные гиперпараметры  для каждого признака"
   ]
  },
  {
   "cell_type": "markdown",
   "id": "7ebee6cc",
   "metadata": {
    "pycharm": {
     "name": "#%% md\n"
    }
   },
   "source": [
    "## Обучение дерева"
   ]
  },
  {
   "cell_type": "code",
   "execution_count": 56,
   "id": "b7d765c0",
   "metadata": {
    "pycharm": {
     "name": "#%%\n"
    }
   },
   "outputs": [],
   "source": [
    "GOAL_NUM = 0"
   ]
  },
  {
   "cell_type": "code",
   "execution_count": 57,
   "id": "b3a35dc4",
   "metadata": {
    "pycharm": {
     "name": "#%%\n"
    }
   },
   "outputs": [],
   "source": [
    "model = model1 = CatBoostRegressor(iterations=1000,\n",
    "                          early_stopping_rounds=30,\n",
    "                          random_seed=RANDOM_STATE,\n",
    "                          depth=10, \n",
    "                          eval_metric=\"R2\",\n",
    "                          loss_function=\"RMSE\")"
   ]
  },
  {
   "cell_type": "code",
   "execution_count": 58,
   "id": "92a20f50",
   "metadata": {
    "pycharm": {
     "name": "#%%\n"
    }
   },
   "outputs": [
    {
     "name": "stdout",
     "output_type": "stream",
     "text": [
      "Learning rate set to 0.063811\n",
      "0:\tlearn: 0.0197464\ttest: 0.0088808\tbest: 0.0088808 (0)\ttotal: 449ms\tremaining: 7m 28s\n",
      "1:\tlearn: 0.0483360\ttest: 0.0174482\tbest: 0.0174482 (1)\ttotal: 862ms\tremaining: 7m 10s\n",
      "2:\tlearn: 0.0984822\ttest: 0.0373886\tbest: 0.0373886 (2)\ttotal: 1.26s\tremaining: 6m 58s\n",
      "3:\tlearn: 0.1284547\ttest: 0.0461430\tbest: 0.0461430 (3)\ttotal: 1.66s\tremaining: 6m 52s\n",
      "4:\tlearn: 0.1559520\ttest: 0.0541466\tbest: 0.0541466 (4)\ttotal: 2.16s\tremaining: 7m 10s\n",
      "5:\tlearn: 0.1963612\ttest: 0.0698872\tbest: 0.0698872 (5)\ttotal: 3.18s\tremaining: 8m 46s\n",
      "6:\tlearn: 0.2236294\ttest: 0.0788184\tbest: 0.0788184 (6)\ttotal: 4.96s\tremaining: 11m 43s\n",
      "7:\tlearn: 0.2466260\ttest: 0.0860847\tbest: 0.0860847 (7)\ttotal: 7.15s\tremaining: 14m 46s\n",
      "8:\tlearn: 0.2808455\ttest: 0.1005965\tbest: 0.1005965 (8)\ttotal: 9.17s\tremaining: 16m 49s\n",
      "9:\tlearn: 0.3068980\ttest: 0.1091650\tbest: 0.1091650 (9)\ttotal: 11.2s\tremaining: 18m 26s\n",
      "10:\tlearn: 0.3216794\ttest: 0.1158338\tbest: 0.1158338 (10)\ttotal: 13s\tremaining: 19m 24s\n",
      "11:\tlearn: 0.3408775\ttest: 0.1222628\tbest: 0.1222628 (11)\ttotal: 14.7s\tremaining: 20m 10s\n",
      "12:\tlearn: 0.3589617\ttest: 0.1285414\tbest: 0.1285414 (12)\ttotal: 16.4s\tremaining: 20m 43s\n",
      "13:\tlearn: 0.3757019\ttest: 0.1346635\tbest: 0.1346635 (13)\ttotal: 18.1s\tremaining: 21m 16s\n",
      "14:\tlearn: 0.4035498\ttest: 0.1483803\tbest: 0.1483803 (14)\ttotal: 19.6s\tremaining: 21m 30s\n",
      "15:\tlearn: 0.4230300\ttest: 0.1566025\tbest: 0.1566025 (15)\ttotal: 21.3s\tremaining: 21m 50s\n",
      "16:\tlearn: 0.4373128\ttest: 0.1621906\tbest: 0.1621906 (16)\ttotal: 23.2s\tremaining: 22m 22s\n",
      "17:\tlearn: 0.4638823\ttest: 0.1764036\tbest: 0.1764036 (17)\ttotal: 25.1s\tremaining: 22m 47s\n",
      "18:\tlearn: 0.4733650\ttest: 0.1816387\tbest: 0.1816387 (18)\ttotal: 25.3s\tremaining: 21m 44s\n",
      "19:\tlearn: 0.4814855\ttest: 0.1848132\tbest: 0.1848132 (19)\ttotal: 27.5s\tremaining: 22m 27s\n",
      "20:\tlearn: 0.4908278\ttest: 0.1897312\tbest: 0.1897312 (20)\ttotal: 29.5s\tremaining: 22m 54s\n",
      "21:\tlearn: 0.4976969\ttest: 0.1897874\tbest: 0.1897874 (21)\ttotal: 31.4s\tremaining: 23m 17s\n",
      "22:\tlearn: 0.5098861\ttest: 0.1950105\tbest: 0.1950105 (22)\ttotal: 33.8s\tremaining: 23m 54s\n",
      "23:\tlearn: 0.5161785\ttest: 0.1994889\tbest: 0.1994889 (23)\ttotal: 35.4s\tremaining: 23m 59s\n",
      "24:\tlearn: 0.5258724\ttest: 0.2038722\tbest: 0.2038722 (24)\ttotal: 37.6s\tremaining: 24m 26s\n",
      "25:\tlearn: 0.5317714\ttest: 0.2081045\tbest: 0.2081045 (25)\ttotal: 39.4s\tremaining: 24m 34s\n",
      "26:\tlearn: 0.5426346\ttest: 0.2123880\tbest: 0.2123880 (26)\ttotal: 41.2s\tremaining: 24m 44s\n",
      "27:\tlearn: 0.5478723\ttest: 0.2164343\tbest: 0.2164343 (27)\ttotal: 43.3s\tremaining: 25m 2s\n",
      "28:\tlearn: 0.5664409\ttest: 0.2266922\tbest: 0.2266922 (28)\ttotal: 46.6s\tremaining: 25m 59s\n",
      "29:\tlearn: 0.5715416\ttest: 0.2266441\tbest: 0.2266922 (28)\ttotal: 49.5s\tremaining: 26m 39s\n",
      "30:\tlearn: 0.5804654\ttest: 0.2303584\tbest: 0.2303584 (30)\ttotal: 52s\tremaining: 27m 5s\n",
      "31:\tlearn: 0.5854232\ttest: 0.2339356\tbest: 0.2339356 (31)\ttotal: 54.6s\tremaining: 27m 31s\n",
      "32:\tlearn: 0.6018641\ttest: 0.2459253\tbest: 0.2459253 (32)\ttotal: 57.3s\tremaining: 27m 59s\n",
      "33:\tlearn: 0.6166427\ttest: 0.2580450\tbest: 0.2580450 (33)\ttotal: 59.2s\tremaining: 28m 2s\n",
      "34:\tlearn: 0.6227227\ttest: 0.2612386\tbest: 0.2612386 (34)\ttotal: 1m 1s\tremaining: 28m 25s\n",
      "35:\tlearn: 0.6280184\ttest: 0.2670287\tbest: 0.2670287 (35)\ttotal: 1m 3s\tremaining: 28m 27s\n",
      "36:\tlearn: 0.6319618\ttest: 0.2700914\tbest: 0.2700914 (36)\ttotal: 1m 5s\tremaining: 28m 33s\n",
      "37:\tlearn: 0.6354812\ttest: 0.2730326\tbest: 0.2730326 (37)\ttotal: 1m 7s\tremaining: 28m 32s\n",
      "38:\tlearn: 0.6409481\ttest: 0.2759937\tbest: 0.2759937 (38)\ttotal: 1m 9s\tremaining: 28m 38s\n",
      "39:\tlearn: 0.6448684\ttest: 0.2787341\tbest: 0.2787341 (39)\ttotal: 1m 12s\tremaining: 28m 52s\n",
      "40:\tlearn: 0.6485899\ttest: 0.2814102\tbest: 0.2814102 (40)\ttotal: 1m 14s\tremaining: 28m 57s\n",
      "41:\tlearn: 0.6529637\ttest: 0.2842481\tbest: 0.2842481 (41)\ttotal: 1m 16s\tremaining: 29m 3s\n",
      "42:\tlearn: 0.6652686\ttest: 0.2920196\tbest: 0.2920196 (42)\ttotal: 1m 18s\tremaining: 29m 11s\n",
      "43:\tlearn: 0.6781935\ttest: 0.2993095\tbest: 0.2993095 (43)\ttotal: 1m 21s\tremaining: 29m 22s\n",
      "44:\tlearn: 0.6825933\ttest: 0.3016701\tbest: 0.3016701 (44)\ttotal: 1m 24s\tremaining: 29m 42s\n",
      "45:\tlearn: 0.6865202\ttest: 0.3040044\tbest: 0.3040044 (45)\ttotal: 1m 25s\tremaining: 29m 43s\n",
      "46:\tlearn: 0.6894991\ttest: 0.3062404\tbest: 0.3062404 (46)\ttotal: 1m 27s\tremaining: 29m 41s\n",
      "47:\tlearn: 0.6928384\ttest: 0.3086524\tbest: 0.3086524 (47)\ttotal: 1m 29s\tremaining: 29m 42s\n",
      "48:\tlearn: 0.6963915\ttest: 0.3109200\tbest: 0.3109200 (48)\ttotal: 1m 30s\tremaining: 29m 9s\n",
      "49:\tlearn: 0.7004147\ttest: 0.3132145\tbest: 0.3132145 (49)\ttotal: 1m 32s\tremaining: 29m 15s\n",
      "50:\tlearn: 0.7035405\ttest: 0.3134002\tbest: 0.3134002 (50)\ttotal: 1m 34s\tremaining: 29m 26s\n",
      "51:\tlearn: 0.7057918\ttest: 0.3198019\tbest: 0.3198019 (51)\ttotal: 1m 37s\tremaining: 29m 29s\n",
      "52:\tlearn: 0.7079704\ttest: 0.3216847\tbest: 0.3216847 (52)\ttotal: 1m 39s\tremaining: 29m 36s\n",
      "53:\tlearn: 0.7105971\ttest: 0.3254619\tbest: 0.3254619 (53)\ttotal: 1m 41s\tremaining: 29m 37s\n",
      "54:\tlearn: 0.7199716\ttest: 0.3310878\tbest: 0.3310878 (54)\ttotal: 1m 43s\tremaining: 29m 40s\n",
      "55:\tlearn: 0.7220027\ttest: 0.3328142\tbest: 0.3328142 (55)\ttotal: 1m 45s\tremaining: 29m 41s\n",
      "56:\tlearn: 0.7254635\ttest: 0.3346057\tbest: 0.3346057 (56)\ttotal: 1m 47s\tremaining: 29m 41s\n",
      "57:\tlearn: 0.7272673\ttest: 0.3362361\tbest: 0.3362361 (57)\ttotal: 1m 49s\tremaining: 29m 39s\n",
      "58:\tlearn: 0.7298582\ttest: 0.3378186\tbest: 0.3378186 (58)\ttotal: 1m 51s\tremaining: 29m 42s\n",
      "59:\tlearn: 0.7317275\ttest: 0.3393168\tbest: 0.3393168 (59)\ttotal: 1m 54s\tremaining: 29m 49s\n",
      "60:\tlearn: 0.7335027\ttest: 0.3410884\tbest: 0.3410884 (60)\ttotal: 1m 56s\tremaining: 29m 50s\n",
      "61:\tlearn: 0.7352248\ttest: 0.3443564\tbest: 0.3443564 (61)\ttotal: 1m 58s\tremaining: 29m 58s\n",
      "62:\tlearn: 0.7375790\ttest: 0.3457412\tbest: 0.3457412 (62)\ttotal: 2m\tremaining: 29m 58s\n",
      "63:\tlearn: 0.7409998\ttest: 0.3471408\tbest: 0.3471408 (63)\ttotal: 2m 2s\tremaining: 29m 54s\n",
      "64:\tlearn: 0.7425630\ttest: 0.3484265\tbest: 0.3484265 (64)\ttotal: 2m 4s\tremaining: 29m 51s\n",
      "65:\tlearn: 0.7508159\ttest: 0.3542223\tbest: 0.3542223 (65)\ttotal: 2m 6s\tremaining: 29m 54s\n",
      "66:\tlearn: 0.7522290\ttest: 0.3553925\tbest: 0.3553925 (66)\ttotal: 2m 10s\tremaining: 30m 14s\n",
      "67:\tlearn: 0.7545590\ttest: 0.3566206\tbest: 0.3566206 (67)\ttotal: 2m 14s\tremaining: 30m 40s\n",
      "68:\tlearn: 0.7559068\ttest: 0.3577923\tbest: 0.3577923 (68)\ttotal: 2m 17s\tremaining: 30m 49s\n",
      "69:\tlearn: 0.7569970\ttest: 0.3589145\tbest: 0.3589145 (69)\ttotal: 2m 19s\tremaining: 30m 58s\n",
      "70:\tlearn: 0.7582973\ttest: 0.3600131\tbest: 0.3600131 (70)\ttotal: 2m 22s\tremaining: 31m 8s\n",
      "71:\tlearn: 0.7596161\ttest: 0.3626310\tbest: 0.3626310 (71)\ttotal: 2m 25s\tremaining: 31m 8s\n",
      "72:\tlearn: 0.7673277\ttest: 0.3716479\tbest: 0.3716479 (72)\ttotal: 2m 26s\tremaining: 31m 3s\n",
      "73:\tlearn: 0.7701033\ttest: 0.3729209\tbest: 0.3729209 (73)\ttotal: 2m 28s\tremaining: 31m\n",
      "74:\tlearn: 0.7713136\ttest: 0.3738360\tbest: 0.3738360 (74)\ttotal: 2m 30s\tremaining: 30m 56s\n",
      "75:\tlearn: 0.7729149\ttest: 0.3747565\tbest: 0.3747565 (75)\ttotal: 2m 32s\tremaining: 30m 57s\n",
      "76:\tlearn: 0.7797918\ttest: 0.3792565\tbest: 0.3792565 (76)\ttotal: 2m 34s\tremaining: 30m 56s\n",
      "77:\tlearn: 0.7809049\ttest: 0.3817848\tbest: 0.3817848 (77)\ttotal: 2m 36s\tremaining: 30m 55s\n",
      "78:\tlearn: 0.7857203\ttest: 0.3848198\tbest: 0.3848198 (78)\ttotal: 2m 38s\tremaining: 30m 51s\n",
      "79:\tlearn: 0.7868336\ttest: 0.3856045\tbest: 0.3856045 (79)\ttotal: 2m 40s\tremaining: 30m 44s\n",
      "80:\tlearn: 0.7886435\ttest: 0.3864408\tbest: 0.3864408 (80)\ttotal: 2m 42s\tremaining: 30m 45s\n",
      "81:\tlearn: 0.7897077\ttest: 0.3872095\tbest: 0.3872095 (81)\ttotal: 2m 44s\tremaining: 30m 44s\n",
      "82:\tlearn: 0.7907773\ttest: 0.3879604\tbest: 0.3879604 (82)\ttotal: 2m 46s\tremaining: 30m 38s\n",
      "83:\tlearn: 0.7917113\ttest: 0.3886840\tbest: 0.3886840 (83)\ttotal: 2m 48s\tremaining: 30m 35s\n",
      "84:\tlearn: 0.7927974\ttest: 0.3893447\tbest: 0.3893447 (84)\ttotal: 2m 49s\tremaining: 30m 29s\n",
      "85:\tlearn: 0.7936970\ttest: 0.3900256\tbest: 0.3900256 (85)\ttotal: 2m 51s\tremaining: 30m 22s\n",
      "86:\tlearn: 0.7982691\ttest: 0.3926003\tbest: 0.3926003 (86)\ttotal: 2m 53s\tremaining: 30m 17s\n",
      "87:\tlearn: 0.8029553\ttest: 0.3987350\tbest: 0.3987350 (87)\ttotal: 2m 55s\tremaining: 30m 15s\n",
      "88:\tlearn: 0.8080610\ttest: 0.4071259\tbest: 0.4071259 (88)\ttotal: 2m 57s\tremaining: 30m 13s\n",
      "89:\tlearn: 0.8121534\ttest: 0.4097581\tbest: 0.4097581 (89)\ttotal: 2m 59s\tremaining: 30m 17s\n",
      "90:\tlearn: 0.8129132\ttest: 0.4103387\tbest: 0.4103387 (90)\ttotal: 3m 3s\tremaining: 30m 31s\n"
     ]
    },
    {
     "name": "stdout",
     "output_type": "stream",
     "text": [
      "91:\tlearn: 0.8136352\ttest: 0.4108559\tbest: 0.4108559 (91)\ttotal: 3m 7s\tremaining: 30m 49s\n",
      "92:\tlearn: 0.8143258\ttest: 0.4113634\tbest: 0.4113634 (92)\ttotal: 3m 11s\tremaining: 31m 7s\n",
      "93:\tlearn: 0.8149447\ttest: 0.4118514\tbest: 0.4118514 (93)\ttotal: 3m 14s\tremaining: 31m 19s\n",
      "94:\tlearn: 0.8157295\ttest: 0.4123655\tbest: 0.4123655 (94)\ttotal: 3m 18s\tremaining: 31m 28s\n",
      "95:\tlearn: 0.8164833\ttest: 0.4130364\tbest: 0.4130364 (95)\ttotal: 3m 22s\tremaining: 31m 44s\n",
      "96:\tlearn: 0.8171490\ttest: 0.4134718\tbest: 0.4134718 (96)\ttotal: 3m 26s\tremaining: 32m\n",
      "97:\tlearn: 0.8177680\ttest: 0.4139413\tbest: 0.4139413 (97)\ttotal: 3m 29s\tremaining: 32m 8s\n",
      "98:\tlearn: 0.8217220\ttest: 0.4167608\tbest: 0.4167608 (98)\ttotal: 3m 34s\tremaining: 32m 34s\n",
      "99:\tlearn: 0.8250548\ttest: 0.4222202\tbest: 0.4222202 (99)\ttotal: 3m 38s\tremaining: 32m 50s\n",
      "100:\tlearn: 0.8258059\ttest: 0.4237355\tbest: 0.4237355 (100)\ttotal: 3m 42s\tremaining: 33m 1s\n",
      "101:\tlearn: 0.8265021\ttest: 0.4241579\tbest: 0.4241579 (101)\ttotal: 3m 48s\tremaining: 33m 32s\n",
      "102:\tlearn: 0.8272824\ttest: 0.4245097\tbest: 0.4245097 (102)\ttotal: 3m 53s\tremaining: 33m 49s\n",
      "103:\tlearn: 0.8281666\ttest: 0.4248720\tbest: 0.4248720 (103)\ttotal: 3m 56s\tremaining: 33m 59s\n",
      "104:\tlearn: 0.8287512\ttest: 0.4252138\tbest: 0.4252138 (104)\ttotal: 4m 3s\tremaining: 34m 31s\n",
      "105:\tlearn: 0.8294205\ttest: 0.4255335\tbest: 0.4255335 (105)\ttotal: 4m 8s\tremaining: 34m 59s\n",
      "106:\tlearn: 0.8301261\ttest: 0.4268334\tbest: 0.4268334 (106)\ttotal: 4m 14s\tremaining: 35m 21s\n",
      "107:\tlearn: 0.8334479\ttest: 0.4285743\tbest: 0.4285743 (107)\ttotal: 4m 19s\tremaining: 35m 42s\n",
      "108:\tlearn: 0.8340538\ttest: 0.4289200\tbest: 0.4289200 (108)\ttotal: 4m 24s\tremaining: 36m 1s\n",
      "109:\tlearn: 0.8348006\ttest: 0.4302178\tbest: 0.4302178 (109)\ttotal: 4m 29s\tremaining: 36m 21s\n",
      "110:\tlearn: 0.8356537\ttest: 0.4324231\tbest: 0.4324231 (110)\ttotal: 4m 33s\tremaining: 36m 32s\n",
      "111:\tlearn: 0.8388945\ttest: 0.4380971\tbest: 0.4380971 (111)\ttotal: 4m 37s\tremaining: 36m 40s\n",
      "112:\tlearn: 0.8425242\ttest: 0.4425308\tbest: 0.4425308 (112)\ttotal: 4m 42s\tremaining: 36m 54s\n",
      "113:\tlearn: 0.8452936\ttest: 0.4474256\tbest: 0.4474256 (113)\ttotal: 4m 46s\tremaining: 37m 6s\n",
      "114:\tlearn: 0.8476700\ttest: 0.4505440\tbest: 0.4505440 (114)\ttotal: 4m 50s\tremaining: 37m 18s\n",
      "115:\tlearn: 0.8499294\ttest: 0.4518837\tbest: 0.4518837 (115)\ttotal: 4m 54s\tremaining: 37m 26s\n",
      "116:\tlearn: 0.8504627\ttest: 0.4521426\tbest: 0.4521426 (116)\ttotal: 4m 58s\tremaining: 37m 34s\n",
      "117:\tlearn: 0.8525850\ttest: 0.4530248\tbest: 0.4530248 (117)\ttotal: 5m 2s\tremaining: 37m 44s\n",
      "118:\tlearn: 0.8531417\ttest: 0.4532664\tbest: 0.4532664 (118)\ttotal: 5m 7s\tremaining: 37m 56s\n",
      "119:\tlearn: 0.8537088\ttest: 0.4535002\tbest: 0.4535002 (119)\ttotal: 5m 12s\tremaining: 38m 10s\n",
      "120:\tlearn: 0.8562111\ttest: 0.4564739\tbest: 0.4564739 (120)\ttotal: 5m 16s\tremaining: 38m 17s\n",
      "121:\tlearn: 0.8578732\ttest: 0.4584377\tbest: 0.4584377 (121)\ttotal: 5m 20s\tremaining: 38m 29s\n",
      "122:\tlearn: 0.8583383\ttest: 0.4586556\tbest: 0.4586556 (122)\ttotal: 5m 25s\tremaining: 38m 37s\n",
      "123:\tlearn: 0.8588691\ttest: 0.4588834\tbest: 0.4588834 (123)\ttotal: 5m 29s\tremaining: 38m 46s\n",
      "124:\tlearn: 0.8606003\ttest: 0.4609724\tbest: 0.4609724 (124)\ttotal: 5m 33s\tremaining: 38m 51s\n",
      "125:\tlearn: 0.8619653\ttest: 0.4616253\tbest: 0.4616253 (125)\ttotal: 5m 37s\tremaining: 38m 58s\n",
      "126:\tlearn: 0.8624882\ttest: 0.4625195\tbest: 0.4625195 (126)\ttotal: 5m 42s\tremaining: 39m 14s\n",
      "127:\tlearn: 0.8651484\ttest: 0.4647678\tbest: 0.4647678 (127)\ttotal: 5m 48s\tremaining: 39m 34s\n",
      "128:\tlearn: 0.8668200\ttest: 0.4672623\tbest: 0.4672623 (128)\ttotal: 5m 53s\tremaining: 39m 44s\n",
      "129:\tlearn: 0.8673247\ttest: 0.4674324\tbest: 0.4674324 (129)\ttotal: 5m 59s\tremaining: 40m 4s\n",
      "130:\tlearn: 0.8678628\ttest: 0.4676034\tbest: 0.4676034 (130)\ttotal: 6m 4s\tremaining: 40m 18s\n",
      "131:\tlearn: 0.8689421\ttest: 0.4679032\tbest: 0.4679032 (131)\ttotal: 6m 9s\tremaining: 40m 29s\n",
      "132:\tlearn: 0.8695103\ttest: 0.4680687\tbest: 0.4680687 (132)\ttotal: 6m 15s\tremaining: 40m 46s\n",
      "133:\tlearn: 0.8700709\ttest: 0.4681663\tbest: 0.4681663 (133)\ttotal: 6m 21s\tremaining: 41m 6s\n",
      "134:\tlearn: 0.8714143\ttest: 0.4687324\tbest: 0.4687324 (134)\ttotal: 6m 27s\tremaining: 41m 25s\n",
      "135:\tlearn: 0.8719015\ttest: 0.4687314\tbest: 0.4687324 (134)\ttotal: 6m 33s\tremaining: 41m 41s\n",
      "136:\tlearn: 0.8729874\ttest: 0.4694046\tbest: 0.4694046 (136)\ttotal: 6m 38s\tremaining: 41m 47s\n",
      "137:\tlearn: 0.8734568\ttest: 0.4695052\tbest: 0.4695052 (137)\ttotal: 6m 42s\tremaining: 41m 56s\n",
      "138:\tlearn: 0.8740276\ttest: 0.4696209\tbest: 0.4696209 (138)\ttotal: 6m 47s\tremaining: 42m 6s\n",
      "139:\tlearn: 0.8744837\ttest: 0.4697202\tbest: 0.4697202 (139)\ttotal: 6m 52s\tremaining: 42m 14s\n",
      "140:\tlearn: 0.8752484\ttest: 0.4699431\tbest: 0.4699431 (140)\ttotal: 6m 57s\tremaining: 42m 21s\n",
      "141:\tlearn: 0.8757073\ttest: 0.4701715\tbest: 0.4701715 (141)\ttotal: 7m 2s\tremaining: 42m 29s\n",
      "142:\tlearn: 0.8772608\ttest: 0.4720119\tbest: 0.4720119 (142)\ttotal: 7m 6s\tremaining: 42m 37s\n",
      "143:\tlearn: 0.8777022\ttest: 0.4721003\tbest: 0.4721003 (143)\ttotal: 7m 11s\tremaining: 42m 44s\n",
      "144:\tlearn: 0.8786329\ttest: 0.4723952\tbest: 0.4723952 (144)\ttotal: 7m 16s\tremaining: 42m 52s\n",
      "145:\tlearn: 0.8790977\ttest: 0.4725272\tbest: 0.4725272 (145)\ttotal: 7m 21s\tremaining: 43m 1s\n",
      "146:\tlearn: 0.8794966\ttest: 0.4725095\tbest: 0.4725272 (145)\ttotal: 7m 26s\tremaining: 43m 12s\n",
      "147:\tlearn: 0.8805128\ttest: 0.4736263\tbest: 0.4736263 (147)\ttotal: 7m 31s\tremaining: 43m 16s\n",
      "148:\tlearn: 0.8813389\ttest: 0.4737439\tbest: 0.4737439 (148)\ttotal: 7m 35s\tremaining: 43m 22s\n",
      "149:\tlearn: 0.8817317\ttest: 0.4738558\tbest: 0.4738558 (149)\ttotal: 7m 40s\tremaining: 43m 29s\n",
      "150:\tlearn: 0.8821400\ttest: 0.4739191\tbest: 0.4739191 (150)\ttotal: 7m 45s\tremaining: 43m 34s\n",
      "151:\tlearn: 0.8830787\ttest: 0.4742371\tbest: 0.4742371 (151)\ttotal: 7m 50s\tremaining: 43m 45s\n",
      "152:\tlearn: 0.8834815\ttest: 0.4743526\tbest: 0.4743526 (152)\ttotal: 7m 55s\tremaining: 43m 52s\n",
      "153:\tlearn: 0.8839070\ttest: 0.4744627\tbest: 0.4744627 (153)\ttotal: 8m\tremaining: 43m 58s\n",
      "154:\tlearn: 0.8855250\ttest: 0.4763583\tbest: 0.4763583 (154)\ttotal: 8m 5s\tremaining: 44m 4s\n",
      "155:\tlearn: 0.8861470\ttest: 0.4763350\tbest: 0.4763583 (154)\ttotal: 8m 10s\tremaining: 44m 15s\n",
      "156:\tlearn: 0.8865075\ttest: 0.4764371\tbest: 0.4764371 (156)\ttotal: 8m 15s\tremaining: 44m 23s\n",
      "157:\tlearn: 0.8868772\ttest: 0.4766348\tbest: 0.4766348 (157)\ttotal: 8m 20s\tremaining: 44m 29s\n",
      "158:\tlearn: 0.8872310\ttest: 0.4767201\tbest: 0.4767201 (158)\ttotal: 8m 25s\tremaining: 44m 31s\n",
      "159:\tlearn: 0.8882273\ttest: 0.4771444\tbest: 0.4771444 (159)\ttotal: 8m 30s\tremaining: 44m 39s\n",
      "160:\tlearn: 0.8886025\ttest: 0.4772405\tbest: 0.4772405 (160)\ttotal: 8m 35s\tremaining: 44m 48s\n",
      "161:\tlearn: 0.8890760\ttest: 0.4772177\tbest: 0.4772405 (160)\ttotal: 8m 40s\tremaining: 44m 52s\n",
      "162:\tlearn: 0.8894860\ttest: 0.4771629\tbest: 0.4772405 (160)\ttotal: 8m 45s\tremaining: 44m 57s\n",
      "163:\tlearn: 0.8898148\ttest: 0.4772460\tbest: 0.4772460 (163)\ttotal: 8m 49s\tremaining: 45m\n",
      "164:\tlearn: 0.8905715\ttest: 0.4773058\tbest: 0.4773058 (164)\ttotal: 8m 53s\tremaining: 45m 1s\n",
      "165:\tlearn: 0.8920575\ttest: 0.4788954\tbest: 0.4788954 (165)\ttotal: 8m 59s\tremaining: 45m 9s\n",
      "166:\tlearn: 0.8923714\ttest: 0.4788834\tbest: 0.4788954 (165)\ttotal: 9m 3s\tremaining: 45m 12s\n",
      "167:\tlearn: 0.8943660\ttest: 0.4796185\tbest: 0.4796185 (167)\ttotal: 9m 10s\tremaining: 45m 28s\n",
      "168:\tlearn: 0.8946647\ttest: 0.4796134\tbest: 0.4796185 (167)\ttotal: 9m 18s\tremaining: 45m 47s\n",
      "169:\tlearn: 0.8950993\ttest: 0.4795571\tbest: 0.4796185 (167)\ttotal: 9m 23s\tremaining: 45m 52s\n",
      "170:\tlearn: 0.8955528\ttest: 0.4795001\tbest: 0.4796185 (167)\ttotal: 9m 29s\tremaining: 46m 2s\n",
      "171:\tlearn: 0.8969939\ttest: 0.4811023\tbest: 0.4811023 (171)\ttotal: 9m 37s\tremaining: 46m 18s\n",
      "172:\tlearn: 0.8975484\ttest: 0.4811036\tbest: 0.4811036 (172)\ttotal: 9m 44s\tremaining: 46m 32s\n",
      "173:\tlearn: 0.8978364\ttest: 0.4811032\tbest: 0.4811036 (172)\ttotal: 9m 50s\tremaining: 46m 42s\n",
      "174:\tlearn: 0.8982041\ttest: 0.4810686\tbest: 0.4811036 (172)\ttotal: 9m 54s\tremaining: 46m 41s\n",
      "175:\tlearn: 0.8985941\ttest: 0.4809930\tbest: 0.4811036 (172)\ttotal: 9m 58s\tremaining: 46m 42s\n",
      "176:\tlearn: 0.9001035\ttest: 0.4831212\tbest: 0.4831212 (176)\ttotal: 10m 2s\tremaining: 46m 43s\n",
      "177:\tlearn: 0.9003764\ttest: 0.4830814\tbest: 0.4831212 (176)\ttotal: 10m 7s\tremaining: 46m 43s\n",
      "178:\tlearn: 0.9006431\ttest: 0.4830640\tbest: 0.4831212 (176)\ttotal: 10m 11s\tremaining: 46m 45s\n",
      "179:\tlearn: 0.9009814\ttest: 0.4831273\tbest: 0.4831273 (179)\ttotal: 10m 16s\tremaining: 46m 46s\n"
     ]
    },
    {
     "name": "stdout",
     "output_type": "stream",
     "text": [
      "180:\tlearn: 0.9013181\ttest: 0.4831544\tbest: 0.4831544 (180)\ttotal: 10m 20s\tremaining: 46m 46s\n",
      "181:\tlearn: 0.9016523\ttest: 0.4831110\tbest: 0.4831544 (180)\ttotal: 10m 24s\tremaining: 46m 46s\n",
      "182:\tlearn: 0.9019094\ttest: 0.4831376\tbest: 0.4831544 (180)\ttotal: 10m 29s\tremaining: 46m 51s\n",
      "183:\tlearn: 0.9021752\ttest: 0.4832062\tbest: 0.4832062 (183)\ttotal: 10m 34s\tremaining: 46m 55s\n",
      "184:\tlearn: 0.9036155\ttest: 0.4836390\tbest: 0.4836390 (184)\ttotal: 10m 39s\tremaining: 46m 57s\n",
      "185:\tlearn: 0.9051868\ttest: 0.4847144\tbest: 0.4847144 (185)\ttotal: 10m 45s\tremaining: 47m 3s\n",
      "186:\tlearn: 0.9054326\ttest: 0.4847022\tbest: 0.4847144 (185)\ttotal: 10m 50s\tremaining: 47m 6s\n",
      "187:\tlearn: 0.9066193\ttest: 0.4858107\tbest: 0.4858107 (187)\ttotal: 10m 54s\tremaining: 47m 7s\n",
      "188:\tlearn: 0.9071732\ttest: 0.4858064\tbest: 0.4858107 (187)\ttotal: 10m 59s\tremaining: 47m 9s\n",
      "189:\tlearn: 0.9073993\ttest: 0.4858061\tbest: 0.4858107 (187)\ttotal: 11m 3s\tremaining: 47m 9s\n",
      "190:\tlearn: 0.9076295\ttest: 0.4857678\tbest: 0.4858107 (187)\ttotal: 11m 8s\tremaining: 47m 11s\n",
      "191:\tlearn: 0.9078777\ttest: 0.4858355\tbest: 0.4858355 (191)\ttotal: 11m 13s\tremaining: 47m 12s\n",
      "192:\tlearn: 0.9081108\ttest: 0.4858350\tbest: 0.4858355 (191)\ttotal: 11m 18s\tremaining: 47m 15s\n",
      "193:\tlearn: 0.9083759\ttest: 0.4858275\tbest: 0.4858355 (191)\ttotal: 11m 23s\tremaining: 47m 18s\n",
      "194:\tlearn: 0.9096285\ttest: 0.4872950\tbest: 0.4872950 (194)\ttotal: 11m 28s\tremaining: 47m 21s\n",
      "195:\tlearn: 0.9109491\ttest: 0.4879634\tbest: 0.4879634 (195)\ttotal: 11m 33s\tremaining: 47m 25s\n",
      "196:\tlearn: 0.9121127\ttest: 0.4891779\tbest: 0.4891779 (196)\ttotal: 11m 39s\tremaining: 47m 31s\n",
      "197:\tlearn: 0.9123244\ttest: 0.4891776\tbest: 0.4891779 (196)\ttotal: 11m 45s\tremaining: 47m 36s\n",
      "198:\tlearn: 0.9125314\ttest: 0.4891406\tbest: 0.4891779 (196)\ttotal: 11m 49s\tremaining: 47m 36s\n",
      "199:\tlearn: 0.9127410\ttest: 0.4891401\tbest: 0.4891779 (196)\ttotal: 11m 54s\tremaining: 47m 38s\n",
      "200:\tlearn: 0.9136505\ttest: 0.4901232\tbest: 0.4901232 (200)\ttotal: 11m 59s\tremaining: 47m 41s\n",
      "201:\tlearn: 0.9144398\ttest: 0.4912767\tbest: 0.4912767 (201)\ttotal: 12m 4s\tremaining: 47m 42s\n",
      "202:\tlearn: 0.9146320\ttest: 0.4912396\tbest: 0.4912767 (201)\ttotal: 12m 9s\tremaining: 47m 43s\n",
      "203:\tlearn: 0.9148268\ttest: 0.4912282\tbest: 0.4912767 (201)\ttotal: 12m 13s\tremaining: 47m 41s\n",
      "204:\tlearn: 0.9151996\ttest: 0.4912321\tbest: 0.4912767 (201)\ttotal: 12m 17s\tremaining: 47m 40s\n",
      "205:\tlearn: 0.9154310\ttest: 0.4912284\tbest: 0.4912767 (201)\ttotal: 12m 21s\tremaining: 47m 38s\n",
      "206:\tlearn: 0.9156167\ttest: 0.4912184\tbest: 0.4912767 (201)\ttotal: 12m 25s\tremaining: 47m 36s\n",
      "207:\tlearn: 0.9158339\ttest: 0.4912123\tbest: 0.4912767 (201)\ttotal: 12m 29s\tremaining: 47m 34s\n",
      "208:\tlearn: 0.9160151\ttest: 0.4911658\tbest: 0.4912767 (201)\ttotal: 12m 33s\tremaining: 47m 32s\n",
      "209:\tlearn: 0.9163960\ttest: 0.4914278\tbest: 0.4914278 (209)\ttotal: 12m 37s\tremaining: 47m 29s\n",
      "210:\tlearn: 0.9165710\ttest: 0.4914176\tbest: 0.4914278 (209)\ttotal: 12m 41s\tremaining: 47m 28s\n",
      "211:\tlearn: 0.9167509\ttest: 0.4914110\tbest: 0.4914278 (209)\ttotal: 12m 45s\tremaining: 47m 26s\n",
      "212:\tlearn: 0.9176881\ttest: 0.4917940\tbest: 0.4917940 (212)\ttotal: 12m 50s\tremaining: 47m 25s\n",
      "213:\tlearn: 0.9179374\ttest: 0.4917556\tbest: 0.4917940 (212)\ttotal: 12m 54s\tremaining: 47m 23s\n",
      "214:\tlearn: 0.9181085\ttest: 0.4917552\tbest: 0.4917940 (212)\ttotal: 12m 58s\tremaining: 47m 21s\n",
      "215:\tlearn: 0.9184772\ttest: 0.4917731\tbest: 0.4917940 (212)\ttotal: 13m 2s\tremaining: 47m 18s\n",
      "216:\tlearn: 0.9186479\ttest: 0.4917372\tbest: 0.4917940 (212)\ttotal: 13m 6s\tremaining: 47m 18s\n",
      "217:\tlearn: 0.9188194\ttest: 0.4917013\tbest: 0.4917940 (212)\ttotal: 13m 10s\tremaining: 47m 16s\n",
      "218:\tlearn: 0.9190314\ttest: 0.4917441\tbest: 0.4917940 (212)\ttotal: 13m 15s\tremaining: 47m 15s\n",
      "219:\tlearn: 0.9191927\ttest: 0.4917437\tbest: 0.4917940 (212)\ttotal: 13m 19s\tremaining: 47m 13s\n",
      "220:\tlearn: 0.9196211\ttest: 0.4918295\tbest: 0.4918295 (220)\ttotal: 13m 23s\tremaining: 47m 11s\n",
      "221:\tlearn: 0.9197860\ttest: 0.4918225\tbest: 0.4918295 (220)\ttotal: 13m 27s\tremaining: 47m 9s\n",
      "222:\tlearn: 0.9199443\ttest: 0.4918221\tbest: 0.4918295 (220)\ttotal: 13m 31s\tremaining: 47m 7s\n",
      "223:\tlearn: 0.9201436\ttest: 0.4918202\tbest: 0.4918295 (220)\ttotal: 13m 35s\tremaining: 47m 5s\n",
      "224:\tlearn: 0.9203028\ttest: 0.4918681\tbest: 0.4918681 (224)\ttotal: 13m 39s\tremaining: 47m 1s\n",
      "225:\tlearn: 0.9204599\ttest: 0.4918676\tbest: 0.4918681 (224)\ttotal: 13m 43s\tremaining: 46m 59s\n",
      "226:\tlearn: 0.9211915\ttest: 0.4922426\tbest: 0.4922426 (226)\ttotal: 13m 47s\tremaining: 46m 56s\n",
      "227:\tlearn: 0.9220003\ttest: 0.4924893\tbest: 0.4924893 (227)\ttotal: 13m 51s\tremaining: 46m 55s\n",
      "228:\tlearn: 0.9221780\ttest: 0.4924486\tbest: 0.4924893 (227)\ttotal: 13m 55s\tremaining: 46m 53s\n",
      "229:\tlearn: 0.9225180\ttest: 0.4924716\tbest: 0.4924893 (227)\ttotal: 13m 59s\tremaining: 46m 51s\n",
      "230:\tlearn: 0.9226643\ttest: 0.4924690\tbest: 0.4924893 (227)\ttotal: 14m 3s\tremaining: 46m 49s\n",
      "231:\tlearn: 0.9228143\ttest: 0.4924344\tbest: 0.4924893 (227)\ttotal: 14m 7s\tremaining: 46m 47s\n",
      "232:\tlearn: 0.9230069\ttest: 0.4924295\tbest: 0.4924893 (227)\ttotal: 14m 11s\tremaining: 46m 44s\n",
      "233:\tlearn: 0.9231817\ttest: 0.4924050\tbest: 0.4924893 (227)\ttotal: 14m 15s\tremaining: 46m 41s\n",
      "234:\tlearn: 0.9233578\ttest: 0.4924001\tbest: 0.4924893 (227)\ttotal: 14m 19s\tremaining: 46m 38s\n",
      "235:\tlearn: 0.9237352\ttest: 0.4924733\tbest: 0.4924893 (227)\ttotal: 14m 23s\tremaining: 46m 36s\n",
      "236:\tlearn: 0.9238809\ttest: 0.4925251\tbest: 0.4925251 (236)\ttotal: 14m 27s\tremaining: 46m 33s\n",
      "237:\tlearn: 0.9240218\ttest: 0.4925247\tbest: 0.4925251 (236)\ttotal: 14m 31s\tremaining: 46m 31s\n",
      "238:\tlearn: 0.9242514\ttest: 0.4924792\tbest: 0.4925251 (236)\ttotal: 14m 35s\tremaining: 46m 28s\n",
      "239:\tlearn: 0.9243938\ttest: 0.4925271\tbest: 0.4925271 (239)\ttotal: 14m 39s\tremaining: 46m 25s\n",
      "240:\tlearn: 0.9245341\ttest: 0.4925266\tbest: 0.4925271 (239)\ttotal: 14m 43s\tremaining: 46m 23s\n",
      "241:\tlearn: 0.9247760\ttest: 0.4925308\tbest: 0.4925308 (241)\ttotal: 14m 47s\tremaining: 46m 20s\n",
      "242:\tlearn: 0.9249145\ttest: 0.4925781\tbest: 0.4925781 (242)\ttotal: 14m 51s\tremaining: 46m 17s\n",
      "243:\tlearn: 0.9250511\ttest: 0.4925776\tbest: 0.4925781 (242)\ttotal: 14m 55s\tremaining: 46m 15s\n",
      "244:\tlearn: 0.9252434\ttest: 0.4926151\tbest: 0.4926151 (244)\ttotal: 14m 59s\tremaining: 46m 13s\n",
      "245:\tlearn: 0.9253750\ttest: 0.4926144\tbest: 0.4926151 (244)\ttotal: 15m 3s\tremaining: 46m 10s\n",
      "246:\tlearn: 0.9255086\ttest: 0.4926587\tbest: 0.4926587 (246)\ttotal: 15m 7s\tremaining: 46m 8s\n",
      "247:\tlearn: 0.9256373\ttest: 0.4926400\tbest: 0.4926587 (246)\ttotal: 15m 12s\tremaining: 46m 5s\n",
      "248:\tlearn: 0.9263660\ttest: 0.4928089\tbest: 0.4928089 (248)\ttotal: 15m 15s\tremaining: 46m 2s\n",
      "249:\tlearn: 0.9264965\ttest: 0.4928551\tbest: 0.4928551 (249)\ttotal: 15m 19s\tremaining: 45m 59s\n",
      "250:\tlearn: 0.9268351\ttest: 0.4927707\tbest: 0.4928551 (249)\ttotal: 15m 24s\tremaining: 45m 57s\n",
      "251:\tlearn: 0.9270374\ttest: 0.4927985\tbest: 0.4928551 (249)\ttotal: 15m 28s\tremaining: 45m 54s\n",
      "252:\tlearn: 0.9271662\ttest: 0.4927980\tbest: 0.4928551 (249)\ttotal: 15m 32s\tremaining: 45m 51s\n",
      "253:\tlearn: 0.9272933\ttest: 0.4928109\tbest: 0.4928551 (249)\ttotal: 15m 35s\tremaining: 45m 48s\n",
      "254:\tlearn: 0.9282087\ttest: 0.4939334\tbest: 0.4939334 (254)\ttotal: 15m 39s\tremaining: 45m 45s\n",
      "255:\tlearn: 0.9283719\ttest: 0.4939249\tbest: 0.4939334 (254)\ttotal: 15m 43s\tremaining: 45m 43s\n",
      "256:\tlearn: 0.9286804\ttest: 0.4940933\tbest: 0.4940933 (256)\ttotal: 15m 48s\tremaining: 45m 40s\n",
      "257:\tlearn: 0.9288047\ttest: 0.4941538\tbest: 0.4941538 (257)\ttotal: 15m 52s\tremaining: 45m 37s\n",
      "258:\tlearn: 0.9289270\ttest: 0.4941358\tbest: 0.4941538 (257)\ttotal: 15m 55s\tremaining: 45m 34s\n",
      "259:\tlearn: 0.9290475\ttest: 0.4941803\tbest: 0.4941803 (259)\ttotal: 16m\tremaining: 45m 32s\n",
      "260:\tlearn: 0.9296603\ttest: 0.4947400\tbest: 0.4947400 (260)\ttotal: 16m 3s\tremaining: 45m 29s\n",
      "261:\tlearn: 0.9297768\ttest: 0.4947123\tbest: 0.4947400 (260)\ttotal: 16m 7s\tremaining: 45m 26s\n",
      "262:\tlearn: 0.9298947\ttest: 0.4947431\tbest: 0.4947431 (262)\ttotal: 16m 11s\tremaining: 45m 23s\n",
      "263:\tlearn: 0.9300092\ttest: 0.4947403\tbest: 0.4947431 (262)\ttotal: 16m 15s\tremaining: 45m 20s\n",
      "264:\tlearn: 0.9301686\ttest: 0.4947704\tbest: 0.4947704 (264)\ttotal: 16m 20s\tremaining: 45m 18s\n",
      "265:\tlearn: 0.9305730\ttest: 0.4948900\tbest: 0.4948900 (265)\ttotal: 16m 24s\tremaining: 45m 16s\n",
      "266:\tlearn: 0.9306830\ttest: 0.4948755\tbest: 0.4948900 (265)\ttotal: 16m 28s\tremaining: 45m 13s\n",
      "267:\tlearn: 0.9308366\ttest: 0.4948306\tbest: 0.4948900 (265)\ttotal: 16m 32s\tremaining: 45m 10s\n"
     ]
    },
    {
     "name": "stdout",
     "output_type": "stream",
     "text": [
      "268:\tlearn: 0.9309480\ttest: 0.4948324\tbest: 0.4948900 (265)\ttotal: 16m 36s\tremaining: 45m 7s\n",
      "269:\tlearn: 0.9310610\ttest: 0.4948706\tbest: 0.4948900 (265)\ttotal: 16m 40s\tremaining: 45m 3s\n",
      "270:\tlearn: 0.9313749\ttest: 0.4950632\tbest: 0.4950632 (270)\ttotal: 16m 44s\tremaining: 45m 1s\n",
      "271:\tlearn: 0.9314868\ttest: 0.4950451\tbest: 0.4950632 (270)\ttotal: 16m 48s\tremaining: 44m 58s\n",
      "272:\tlearn: 0.9315929\ttest: 0.4950466\tbest: 0.4950632 (270)\ttotal: 16m 52s\tremaining: 44m 55s\n",
      "273:\tlearn: 0.9320425\ttest: 0.4951222\tbest: 0.4951222 (273)\ttotal: 16m 56s\tremaining: 44m 53s\n",
      "274:\tlearn: 0.9321506\ttest: 0.4951177\tbest: 0.4951222 (273)\ttotal: 17m\tremaining: 44m 50s\n",
      "275:\tlearn: 0.9324669\ttest: 0.4951612\tbest: 0.4951612 (275)\ttotal: 17m 4s\tremaining: 44m 47s\n",
      "276:\tlearn: 0.9325707\ttest: 0.4951943\tbest: 0.4951943 (276)\ttotal: 17m 8s\tremaining: 44m 45s\n",
      "277:\tlearn: 0.9327052\ttest: 0.4951788\tbest: 0.4951943 (276)\ttotal: 17m 12s\tremaining: 44m 42s\n",
      "278:\tlearn: 0.9328130\ttest: 0.4951839\tbest: 0.4951943 (276)\ttotal: 17m 16s\tremaining: 44m 39s\n",
      "279:\tlearn: 0.9330419\ttest: 0.4951563\tbest: 0.4951943 (276)\ttotal: 17m 21s\tremaining: 44m 37s\n",
      "280:\tlearn: 0.9331454\ttest: 0.4951509\tbest: 0.4951943 (276)\ttotal: 17m 25s\tremaining: 44m 35s\n",
      "281:\tlearn: 0.9332462\ttest: 0.4951877\tbest: 0.4951943 (276)\ttotal: 17m 29s\tremaining: 44m 33s\n",
      "282:\tlearn: 0.9338270\ttest: 0.4952421\tbest: 0.4952421 (282)\ttotal: 17m 34s\tremaining: 44m 31s\n",
      "283:\tlearn: 0.9339300\ttest: 0.4952115\tbest: 0.4952421 (282)\ttotal: 17m 38s\tremaining: 44m 27s\n",
      "284:\tlearn: 0.9340331\ttest: 0.4952080\tbest: 0.4952421 (282)\ttotal: 17m 42s\tremaining: 44m 26s\n",
      "285:\tlearn: 0.9342683\ttest: 0.4952717\tbest: 0.4952717 (285)\ttotal: 17m 46s\tremaining: 44m 23s\n",
      "286:\tlearn: 0.9343752\ttest: 0.4952725\tbest: 0.4952725 (286)\ttotal: 17m 50s\tremaining: 44m 20s\n",
      "287:\tlearn: 0.9344744\ttest: 0.4952711\tbest: 0.4952725 (286)\ttotal: 17m 54s\tremaining: 44m 17s\n",
      "288:\tlearn: 0.9345755\ttest: 0.4952671\tbest: 0.4952725 (286)\ttotal: 17m 59s\tremaining: 44m 14s\n",
      "289:\tlearn: 0.9346757\ttest: 0.4952634\tbest: 0.4952725 (286)\ttotal: 18m 3s\tremaining: 44m 12s\n",
      "290:\tlearn: 0.9348702\ttest: 0.4952475\tbest: 0.4952725 (286)\ttotal: 18m 7s\tremaining: 44m 8s\n",
      "291:\tlearn: 0.9349673\ttest: 0.4952422\tbest: 0.4952725 (286)\ttotal: 18m 11s\tremaining: 44m 5s\n",
      "292:\tlearn: 0.9350657\ttest: 0.4952123\tbest: 0.4952725 (286)\ttotal: 18m 15s\tremaining: 44m 2s\n",
      "293:\tlearn: 0.9351987\ttest: 0.4952418\tbest: 0.4952725 (286)\ttotal: 18m 19s\tremaining: 43m 59s\n",
      "294:\tlearn: 0.9352964\ttest: 0.4952759\tbest: 0.4952759 (294)\ttotal: 18m 23s\tremaining: 43m 56s\n",
      "295:\tlearn: 0.9353908\ttest: 0.4952719\tbest: 0.4952759 (294)\ttotal: 18m 27s\tremaining: 43m 53s\n",
      "296:\tlearn: 0.9357957\ttest: 0.4953183\tbest: 0.4953183 (296)\ttotal: 18m 31s\tremaining: 43m 50s\n",
      "297:\tlearn: 0.9359047\ttest: 0.4953123\tbest: 0.4953183 (296)\ttotal: 18m 35s\tremaining: 43m 47s\n",
      "298:\tlearn: 0.9361325\ttest: 0.4952908\tbest: 0.4953183 (296)\ttotal: 18m 39s\tremaining: 43m 44s\n",
      "299:\tlearn: 0.9362243\ttest: 0.4952611\tbest: 0.4953183 (296)\ttotal: 18m 43s\tremaining: 43m 41s\n",
      "300:\tlearn: 0.9363191\ttest: 0.4952860\tbest: 0.4953183 (296)\ttotal: 18m 47s\tremaining: 43m 38s\n",
      "301:\tlearn: 0.9364094\ttest: 0.4952839\tbest: 0.4953183 (296)\ttotal: 18m 51s\tremaining: 43m 35s\n",
      "302:\tlearn: 0.9365022\ttest: 0.4952833\tbest: 0.4953183 (296)\ttotal: 18m 55s\tremaining: 43m 32s\n",
      "303:\tlearn: 0.9365944\ttest: 0.4953168\tbest: 0.4953183 (296)\ttotal: 18m 59s\tremaining: 43m 29s\n",
      "304:\tlearn: 0.9366819\ttest: 0.4953156\tbest: 0.4953183 (296)\ttotal: 19m 3s\tremaining: 43m 26s\n",
      "305:\tlearn: 0.9368336\ttest: 0.4948452\tbest: 0.4953183 (296)\ttotal: 19m 7s\tremaining: 43m 22s\n",
      "306:\tlearn: 0.9369228\ttest: 0.4948376\tbest: 0.4953183 (296)\ttotal: 19m 11s\tremaining: 43m 19s\n",
      "307:\tlearn: 0.9370129\ttest: 0.4948367\tbest: 0.4953183 (296)\ttotal: 19m 15s\tremaining: 43m 16s\n",
      "308:\tlearn: 0.9371506\ttest: 0.4948639\tbest: 0.4953183 (296)\ttotal: 19m 19s\tremaining: 43m 12s\n",
      "309:\tlearn: 0.9372402\ttest: 0.4948297\tbest: 0.4953183 (296)\ttotal: 19m 23s\tremaining: 43m 9s\n",
      "310:\tlearn: 0.9373293\ttest: 0.4948524\tbest: 0.4953183 (296)\ttotal: 19m 27s\tremaining: 43m 7s\n",
      "311:\tlearn: 0.9379519\ttest: 0.4946324\tbest: 0.4953183 (296)\ttotal: 19m 31s\tremaining: 43m 3s\n",
      "312:\tlearn: 0.9381093\ttest: 0.4946436\tbest: 0.4953183 (296)\ttotal: 19m 35s\tremaining: 43m\n",
      "313:\tlearn: 0.9381956\ttest: 0.4946435\tbest: 0.4953183 (296)\ttotal: 19m 39s\tremaining: 42m 57s\n",
      "314:\tlearn: 0.9382829\ttest: 0.4946375\tbest: 0.4953183 (296)\ttotal: 19m 43s\tremaining: 42m 53s\n",
      "315:\tlearn: 0.9383675\ttest: 0.4946013\tbest: 0.4953183 (296)\ttotal: 19m 47s\tremaining: 42m 50s\n",
      "316:\tlearn: 0.9384868\ttest: 0.4945782\tbest: 0.4953183 (296)\ttotal: 19m 51s\tremaining: 42m 47s\n",
      "317:\tlearn: 0.9385759\ttest: 0.4946079\tbest: 0.4953183 (296)\ttotal: 19m 56s\tremaining: 42m 45s\n",
      "318:\tlearn: 0.9386641\ttest: 0.4945973\tbest: 0.4953183 (296)\ttotal: 20m\tremaining: 42m 42s\n",
      "319:\tlearn: 0.9387488\ttest: 0.4945967\tbest: 0.4953183 (296)\ttotal: 20m 4s\tremaining: 42m 38s\n",
      "320:\tlearn: 0.9388332\ttest: 0.4945967\tbest: 0.4953183 (296)\ttotal: 20m 8s\tremaining: 42m 35s\n",
      "321:\tlearn: 0.9389168\ttest: 0.4945600\tbest: 0.4953183 (296)\ttotal: 20m 12s\tremaining: 42m 32s\n",
      "322:\tlearn: 0.9391262\ttest: 0.4945681\tbest: 0.4953183 (296)\ttotal: 20m 16s\tremaining: 42m 29s\n",
      "323:\tlearn: 0.9392093\ttest: 0.4945627\tbest: 0.4953183 (296)\ttotal: 20m 20s\tremaining: 42m 26s\n",
      "324:\tlearn: 0.9392921\ttest: 0.4945811\tbest: 0.4953183 (296)\ttotal: 20m 24s\tremaining: 42m 23s\n",
      "325:\tlearn: 0.9398419\ttest: 0.4948103\tbest: 0.4953183 (296)\ttotal: 20m 29s\tremaining: 42m 21s\n",
      "326:\tlearn: 0.9399598\ttest: 0.4947870\tbest: 0.4953183 (296)\ttotal: 20m 33s\tremaining: 42m 18s\n",
      "Stopped by overfitting detector  (30 iterations wait)\n",
      "\n",
      "bestTest = 0.4953183396\n",
      "bestIteration = 296\n",
      "\n",
      "Shrink model to first 297 iterations.\n"
     ]
    },
    {
     "data": {
      "text/plain": [
       "<catboost.core.CatBoostRegressor at 0x2398328de80>"
      ]
     },
     "execution_count": 58,
     "metadata": {},
     "output_type": "execute_result"
    }
   ],
   "source": [
    "model.fit(X_train, \n",
    "          y_train.iloc[:,GOAL_NUM], \n",
    "          eval_set=Pool(\n",
    "              data=X_test, \n",
    "              label=y_test.iloc[:,GOAL_NUM])\n",
    "         )"
   ]
  },
  {
   "cell_type": "code",
   "execution_count": 59,
   "id": "84dec36a",
   "metadata": {
    "pycharm": {
     "name": "#%%\n"
    }
   },
   "outputs": [],
   "source": [
    "with open(f\"models/cb1000-{GOAL_NUM}.pkl\", \"wb\") as pkl_file:\n",
    "     pickle.dump(model, pkl_file)"
   ]
  },
  {
   "cell_type": "markdown",
   "id": "8776642e",
   "metadata": {
    "pycharm": {
     "name": "#%% md\n"
    }
   },
   "source": [
    "> Подгрузим модели, натренированные в других ноутбуках"
   ]
  },
  {
   "cell_type": "code",
   "execution_count": 60,
   "id": "f1006136",
   "metadata": {
    "pycharm": {
     "name": "#%%\n"
    }
   },
   "outputs": [],
   "source": [
    "with open(f\"models/cb1000-1.pkl\", \"rb\") as pkl_file:\n",
    "     model1 = pickle.load(pkl_file)"
   ]
  },
  {
   "cell_type": "code",
   "execution_count": 61,
   "id": "bb1c4879",
   "metadata": {
    "pycharm": {
     "name": "#%%\n"
    }
   },
   "outputs": [],
   "source": [
    "with open(f\"models/cb1000-2.pkl\", \"rb\") as pkl_file:\n",
    "     model2 = pickle.load(pkl_file)"
   ]
  },
  {
   "cell_type": "code",
   "execution_count": 63,
   "id": "41db91f6",
   "metadata": {
    "pycharm": {
     "name": "#%%\n"
    }
   },
   "outputs": [
    {
     "data": {
      "text/plain": [
       "(0.5543378172027033,\n",
       " 0.19812731291956354,\n",
       " 0.24570993351030682,\n",
       " 0.11050057077283289)"
      ]
     },
     "execution_count": 63,
     "metadata": {},
     "output_type": "execute_result"
    }
   ],
   "source": [
    "preds = np.c_[\n",
    "    model.predict(X_test),\n",
    "    model1.predict(X_test),\n",
    "    model2.predict(X_test)\n",
    "]\n",
    "my_metric(y_test, preds)"
   ]
  },
  {
   "cell_type": "markdown",
   "id": "5a6ef8a2",
   "metadata": {
    "pycharm": {
     "name": "#%% md\n"
    }
   },
   "source": [
    "> не очень, ну проверим на лидер борде"
   ]
  },
  {
   "cell_type": "code",
   "execution_count": 65,
   "id": "08b46e48",
   "metadata": {
    "pycharm": {
     "name": "#%%\n"
    }
   },
   "outputs": [
    {
     "name": "stderr",
     "output_type": "stream",
     "text": [
      "C:\\Soft\\Anaconda\\lib\\site-packages\\pandas\\core\\arraylike.py:364: RuntimeWarning: divide by zero encountered in log\n",
      "  result = getattr(ufunc, method)(*inputs, **kwargs)\n"
     ]
    }
   ],
   "source": [
    "X_test = preprocess.transform(test_df)"
   ]
  },
  {
   "cell_type": "code",
   "execution_count": 67,
   "id": "eab1eac8",
   "metadata": {
    "pycharm": {
     "name": "#%%\n"
    }
   },
   "outputs": [],
   "source": [
    "preds = np.c_[\n",
    "    model.predict(X_test),\n",
    "    model1.predict(X_test),\n",
    "    model2.predict(X_test)\n",
    "]\n"
   ]
  },
  {
   "cell_type": "code",
   "execution_count": 68,
   "id": "72839ea1",
   "metadata": {
    "pycharm": {
     "name": "#%%\n"
    }
   },
   "outputs": [],
   "source": [
    "write_down_predictions(preds, \"local5. catboost 3 models.csv\")"
   ]
  },
  {
   "cell_type": "markdown",
   "id": "764c0291",
   "metadata": {
    "pycharm": {
     "name": "#%% md\n"
    }
   },
   "source": [
    "## Результат\n",
    "Такая модель показала хороший результат, На лидерборде получилось 0.68  \n",
    "Пока это лучшая из моих моделей  "
   ]
  },
  {
   "cell_type": "markdown",
   "id": "2eb267de",
   "metadata": {
    "pycharm": {
     "name": "#%% md\n"
    }
   },
   "source": [
    "## Попробуем комбайн\n",
    "- первый таргет от мультитаргетного леса\n",
    "- 2-ой и 3-ий таргет от специального кэтбуста\n",
    "\n",
    "думается мне что это пока это лучшие модели (кетбуст оказался слаб для первого таргета)"
   ]
  },
  {
   "cell_type": "code",
   "execution_count": 6,
   "id": "396831db",
   "metadata": {
    "pycharm": {
     "name": "#%%\n"
    }
   },
   "outputs": [
    {
     "name": "stderr",
     "output_type": "stream",
     "text": [
      "C:\\Soft\\Anaconda\\lib\\site-packages\\pandas\\core\\arraylike.py:364: RuntimeWarning: divide by zero encountered in log\n",
      "  result = getattr(ufunc, method)(*inputs, **kwargs)\n"
     ]
    }
   ],
   "source": [
    "X_test = preprocess.transform(test_df)"
   ]
  },
  {
   "cell_type": "code",
   "execution_count": 9,
   "id": "cc4b4514",
   "metadata": {
    "pycharm": {
     "name": "#%%\n"
    }
   },
   "outputs": [],
   "source": [
    "with open(\"models/rf2000.pkl\", \"rb\") as pkl_file:\n",
    "    model0 = pickle.load(pkl_file)"
   ]
  },
  {
   "cell_type": "code",
   "execution_count": 7,
   "id": "ce8092a2",
   "metadata": {
    "pycharm": {
     "name": "#%%\n"
    }
   },
   "outputs": [],
   "source": [
    "with open(f\"models/cb1000-1.pkl\", \"rb\") as pkl_file:\n",
    "     model1 = pickle.load(pkl_file)"
   ]
  },
  {
   "cell_type": "code",
   "execution_count": 8,
   "id": "dece937d",
   "metadata": {
    "pycharm": {
     "name": "#%%\n"
    }
   },
   "outputs": [],
   "source": [
    "with open(f\"models/cb1000-2.pkl\", \"rb\") as pkl_file:\n",
    "     model2 = pickle.load(pkl_file)"
   ]
  },
  {
   "cell_type": "code",
   "execution_count": 18,
   "id": "ece58aa3",
   "metadata": {
    "pycharm": {
     "name": "#%%\n"
    }
   },
   "outputs": [],
   "source": [
    "preds = np.c_[\n",
    "    model0.predict(X_test)[:,0],\n",
    "    model1.predict(X_test),\n",
    "    model2.predict(X_test)\n",
    "]\n"
   ]
  },
  {
   "cell_type": "code",
   "execution_count": 19,
   "id": "a8d59103",
   "metadata": {
    "pycharm": {
     "name": "#%%\n"
    }
   },
   "outputs": [
    {
     "data": {
      "text/plain": [
       "(3000, 3)"
      ]
     },
     "execution_count": 19,
     "metadata": {},
     "output_type": "execute_result"
    }
   ],
   "source": [
    "preds.shape"
   ]
  },
  {
   "cell_type": "code",
   "execution_count": 20,
   "id": "4a12f340",
   "metadata": {
    "pycharm": {
     "name": "#%%\n"
    }
   },
   "outputs": [],
   "source": [
    "write_down_predictions(preds, \"local5. rf2000-1 + catboost2-3models.csv\")"
   ]
  },
  {
   "cell_type": "markdown",
   "id": "e5f3d035",
   "metadata": {
    "pycharm": {
     "name": "#%% md\n"
    }
   },
   "source": [
    "**Ожидания не оправдались, результат стал заметно хуже на ЛБ**"
   ]
  },
  {
   "cell_type": "code",
   "execution_count": null,
   "id": "31fac43c",
   "metadata": {
    "pycharm": {
     "name": "#%%\n"
    }
   },
   "outputs": [],
   "source": []
  }
 ],
 "metadata": {
  "kernelspec": {
   "display_name": "Python 3 (ipykernel)",
   "language": "python",
   "name": "python3"
  },
  "language_info": {
   "codemirror_mode": {
    "name": "ipython",
    "version": 3
   },
   "file_extension": ".py",
   "mimetype": "text/x-python",
   "name": "python",
   "nbconvert_exporter": "python",
   "pygments_lexer": "ipython3",
   "version": "3.9.7"
  }
 },
 "nbformat": 4,
 "nbformat_minor": 5
}